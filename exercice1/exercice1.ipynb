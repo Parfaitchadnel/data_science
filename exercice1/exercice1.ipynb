{
 "cells": [
  {
   "cell_type": "code",
   "execution_count": 2,
   "metadata": {},
   "outputs": [
    {
     "name": "stdout",
     "output_type": "stream",
     "text": [
      "Durée de l'audio : 173.43 secondes\n"
     ]
    }
   ],
   "source": [
    "# 1. Charger un fichier audio et afficher sa durée avec librosa\n",
    "import librosa\n",
    "\n",
    "audio_file = \"/home/chadnel-linux/Documents/datascience/exercice1/rose_bruno_audio.mp3\"\n",
    "y, sr = librosa.load(audio_file, sr=None)\n",
    "duree = librosa.get_duration(y=y, sr=sr)\n",
    "print(f\"Durée de l'audio : {duree:.2f} secondes\")"
   ]
  },
  {
   "cell_type": "code",
   "execution_count": 3,
   "metadata": {},
   "outputs": [
    {
     "name": "stdout",
     "output_type": "stream",
     "text": [
      "FPS de la vidéo : 23.976023976023978\n"
     ]
    }
   ],
   "source": [
    "# 2. Charger une vidéo et afficher ses FPS avec OpenCV\n",
    "import cv2\n",
    "\n",
    "video_file = \"/home/chadnel-linux/Documents/datascience/exercice1/rose_bruno_video.mp4\"\n",
    "cap = cv2.VideoCapture(video_file)\n",
    "if cap.isOpened():\n",
    "    fps = cap.get(cv2.CAP_PROP_FPS)\n",
    "    print(f\"FPS de la vidéo : {fps}\")\n",
    "    cap.release()\n",
    "else:\n",
    "    print(\"Impossible d'ouvrir la vidéo.\")"
   ]
  },
  {
   "cell_type": "code",
   "execution_count": 63,
   "metadata": {},
   "outputs": [],
   "source": [
    "#création du fichier .paquet d'abord\n",
    "import pandas as pd\n",
    "\n",
    "df = pd.DataFrame({\n",
    "    \"nom\": [\"FADONOUGBO\", \"Parfait\", \"Chadnel\"],\n",
    "    \"âge\": [53, 35, 29],\n",
    "    \"sexe\": [\"M\", \"M\", \"F\"]\n",
    "})\n",
    "df.to_parquet(\"fichier.parquet\")\n"
   ]
  },
  {
   "cell_type": "code",
   "execution_count": 4,
   "metadata": {},
   "outputs": [
    {
     "name": "stdout",
     "output_type": "stream",
     "text": [
      "Contenu du Parquet :\n",
      "           nom  âge sexe\n",
      "0  FADONOUGBO   53    M\n",
      "1     Parfait   35    M\n",
      "2     Chadnel   29    F\n"
     ]
    }
   ],
   "source": [
    "# 3. Lire un fichier Parquet avec pandas\n",
    "import pandas as pd\n",
    "\n",
    "parquet_file = \"fichier.parquet\"\n",
    "df_parquet = pd.read_parquet(parquet_file)\n",
    "print(\"Contenu du Parquet :\\n\", df_parquet.head())"
   ]
  },
  {
   "cell_type": "code",
   "execution_count": 6,
   "metadata": {},
   "outputs": [],
   "source": [
    "#création du fichier .avro\n",
    "from fastavro import writer, parse_schema\n",
    "\n",
    "schema = {\n",
    "    \"type\": \"record\",\n",
    "    \"name\": \"Utilisateur\",\n",
    "    \"fields\": [\n",
    "        {\"name\": \"nom\", \"type\": \"string\"},\n",
    "        {\"name\": \"email\", \"type\": \"string\"}\n",
    "    ]\n",
    "}\n",
    "\n",
    "records = [\n",
    "    {\"nom\": \"FADONOUGBO\", \"email\": \"parfaitfado40@gmail.com\"},\n",
    "    {\"nom\": \"AGOSSOU\", \"email\": \"agossou2@gmail.com\"}\n",
    "]\n",
    "\n",
    "with open(\"fichier.avro\", \"wb\") as out:\n",
    "    writer(out, parse_schema(schema), records)\n"
   ]
  },
  {
   "cell_type": "code",
   "execution_count": 57,
   "metadata": {},
   "outputs": [
    {
     "name": "stdout",
     "output_type": "stream",
     "text": [
      "DataFrame Avro :\n",
      "           nom                    email\n",
      "0  FADONOUGBO  parfaitfado40@gmail.com\n",
      "1     AGOSSOU       agossou2@gmail.com\n"
     ]
    }
   ],
   "source": [
    "# 4. Lire un fichier Avro et le convertir en DataFrame\n",
    "from fastavro import reader\n",
    "\n",
    "avro_file = \"fichier.avro\"\n",
    "records = []\n",
    "with open(avro_file, \"rb\") as f:\n",
    "    avro_reader = reader(f)\n",
    "    for record in avro_reader:\n",
    "        records.append(record)\n",
    "df_avro = pd.DataFrame(records)\n",
    "print(\"DataFrame Avro :\\n\", df_avro.head())"
   ]
  },
  {
   "cell_type": "code",
   "execution_count": 58,
   "metadata": {},
   "outputs": [
    {
     "name": "stdout",
     "output_type": "stream",
     "text": [
      "{'clients': [{'abonnement': 'premium',\n",
      "              'achats': [{'date': datetime.date(2025, 1, 10),\n",
      "                          'prix': 35.99,\n",
      "                          'produit': 'Livre Python'},\n",
      "                         {'date': datetime.date(2025, 2, 5),\n",
      "                          'prix': 89.9,\n",
      "                          'produit': 'Cours vidéo'}],\n",
      "              'email': 'alice@example.com',\n",
      "              'id': 101,\n",
      "              'nom': 'Alice Dupont',\n",
      "              'pays': 'France'},\n",
      "             {'abonnement': 'gratuit',\n",
      "              'achats': [],\n",
      "              'email': 'bob@example.com',\n",
      "              'id': 102,\n",
      "              'nom': 'Bob Martin',\n",
      "              'pays': 'Canada'}],\n",
      " 'projet': {'actif': True,\n",
      "            'date': datetime.date(2025, 3, 23),\n",
      "            'nom': 'Analyse de données clients',\n",
      "            'version': 1.2},\n",
      " 'statistiques': {'total_abonnés_premium': 1, 'total_clients': 2}}\n"
     ]
    }
   ],
   "source": [
    "# 5. Lire un fichier YAML et afficher ses clés principales\n",
    "import yaml\n",
    "\n",
    "with open(\"fichier.yaml\", \"r\", encoding=\"utf-8\") as f:\n",
    "    data = yaml.safe_load(f)\n",
    "\n",
    "from pprint import pprint\n",
    "pprint(data)"
   ]
  },
  {
   "cell_type": "code",
   "execution_count": 17,
   "metadata": {},
   "outputs": [],
   "source": [
    "#création de l'archive zipfile\n",
    "import zipfile\n",
    "\n",
    "with zipfile.ZipFile(\"archive.zip\", \"w\") as zipf:\n",
    "    zipf.writestr(\"a.txt\", \"Contenu A\")\n",
    "    zipf.writestr(\"b.txt\", \"Contenu B\")\n"
   ]
  },
  {
   "cell_type": "code",
   "execution_count": 59,
   "metadata": {},
   "outputs": [
    {
     "name": "stdout",
     "output_type": "stream",
     "text": [
      "Fichiers extraits : ['b.txt', 'a.txt']\n"
     ]
    }
   ],
   "source": [
    "# 6. Extraire une archive ZIP et afficher les fichiers extraits\n",
    "import zipfile\n",
    "import os\n",
    "\n",
    "zip_file = \"archive.zip\"\n",
    "extract_folder = \"extraction\"\n",
    "with zipfile.ZipFile(zip_file, \"r\") as z:\n",
    "    z.extractall(extract_folder)\n",
    "print(\"Fichiers extraits :\", os.listdir(extract_folder))"
   ]
  },
  {
   "cell_type": "code",
   "execution_count": 7,
   "metadata": {},
   "outputs": [
    {
     "name": "stdout",
     "output_type": "stream",
     "text": [
      "Extrait du PDF :\n",
      " Longest Increasing Subsequence (LIS)\n",
      "1)\n",
      "Réponse : O(n).\n",
      "Explication :\n",
      "— Une fois qu’on a rempli la table permettant de calculer la LIS, on\n",
      "reconstruit la sous-suite en remontant (unwinding) dans cette table.\n",
      "— À chaque étape, on détermine de quel «prédécesseur» on vient.\n",
      "— Cette remontée se fait au plus sur nétapes.\n",
      "— Par conséquent, la reconstruction de la LIS est en O(n), même si le\n",
      "calcul initial de la longueur de la LIS peut être O(nlogn)ouO(n2)\n",
      "selon la méthode.\n",
      "2)\n",
      "Réponse : O(2n).\n",
      "Explicat\n"
     ]
    }
   ],
   "source": [
    "# 7. Lire un fichier PDF et afficher son texte brut\n",
    "from PyPDF2 import PdfReader\n",
    "\n",
    "pdf_file = \"document.pdf\"\n",
    "reader = PdfReader(pdf_file)\n",
    "texte_pdf = \"\\n\".join([page.extract_text() for page in reader.pages])\n",
    "print(\"Extrait du PDF :\\n\", texte_pdf[:500])\n"
   ]
  },
  {
   "cell_type": "code",
   "execution_count": 23,
   "metadata": {},
   "outputs": [
    {
     "name": "stdout",
     "output_type": "stream",
     "text": [
      "Contenu Markdown :\n",
      " # Titre Markdown\n",
      "\n",
      "Voici un exemple **Markdown** avec une liste :\n",
      "- Élément 1\n",
      "- Élément 2\n",
      "\n"
     ]
    }
   ],
   "source": [
    "# 8. Lire un fichier Markdown et afficher son contenu\n",
    "md_file = \"fichier.md\"\n",
    "with open(md_file, \"r\", encoding=\"utf-8\") as f:\n",
    "    contenu_md = f.read()\n",
    "print(\"Contenu Markdown :\\n\", contenu_md)"
   ]
  },
  {
   "cell_type": "code",
   "execution_count": 8,
   "metadata": {},
   "outputs": [
    {
     "name": "stdout",
     "output_type": "stream",
     "text": [
      "Contenu TXT :\n",
      " Ceci est un fichier texte.\n",
      "Il contient quelques lignes de texte brut.\n",
      "\n"
     ]
    }
   ],
   "source": [
    "# 9. Lire un fichier TXT et afficher son contenu\n",
    "txt_file = \"fichier.txt\"\n",
    "with open(txt_file, \"r\", encoding=\"utf-8\") as f:\n",
    "    contenu_txt = f.read()\n",
    "print(\"Contenu TXT :\\n\", contenu_txt)"
   ]
  },
  {
   "cell_type": "code",
   "execution_count": null,
   "metadata": {},
   "outputs": [],
   "source": []
  }
 ],
 "metadata": {
  "kernelspec": {
   "display_name": "datascience",
   "language": "python",
   "name": "python3"
  },
  "language_info": {
   "codemirror_mode": {
    "name": "ipython",
    "version": 3
   },
   "file_extension": ".py",
   "mimetype": "text/x-python",
   "name": "python",
   "nbconvert_exporter": "python",
   "pygments_lexer": "ipython3",
   "version": "3.9.21"
  }
 },
 "nbformat": 4,
 "nbformat_minor": 4
}
