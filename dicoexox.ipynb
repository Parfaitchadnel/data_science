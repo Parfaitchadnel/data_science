{
 "cells": [
  {
   "cell_type": "code",
   "execution_count": 2,
   "metadata": {},
   "outputs": [
    {
     "name": "stdout",
     "output_type": "stream",
     "text": [
      "\n",
      "Moyenne d’âge par filière :\n",
      "          Age\n",
      "Filière      \n",
      "Beryl    24.0\n",
      "Kevin    33.0\n",
      "Parfait  20.0\n",
      "\n",
      "Âge max par filière :\n",
      "Filière\n",
      "Beryl      26\n",
      "Kevin      33\n",
      "Parfait    20\n",
      "Name: Age, dtype: int64\n",
      "\n",
      "Étudiants avec Age > 25 :\n",
      "  Prénom  Age Filière\n",
      "0  Beryl   26   Beryl\n",
      "2  Kevin   33   Kevin\n",
      "Beryl\n",
      "26\n"
     ]
    }
   ],
   "source": [
    "import pandas as pd\n",
    "data = {\n",
    "    \"Prénom\": ['Beryl', 'Sarah', 'Kevin', 'Parfait'],\n",
    "    \"Age\": [26, 22, 33, 20],\n",
    "    \"Filière\": ['A', 'A', 'C', 'B']\n",
    "}\n",
    "\n",
    "# Création du DataFrame\n",
    "df = pd.DataFrame(data)\n",
    "\n",
    "# map \n",
    "df['Filière'] = df['Filière'].map({'A': 'Beryl', 'B': 'Parfait', 'C': 'Kevin'})\n",
    "\n",
    "# sort_values : trier par âge croissant\n",
    "df.sort_values(by='Age', ascending=True, inplace=True)\n",
    "\n",
    "# pivot_table : moyenne d’âge par filière\n",
    "pivot = df.pivot_table(values='Age', index='Filière', aggfunc='mean')\n",
    "print(\"\\nMoyenne d’âge par filière :\")\n",
    "print(pivot)\n",
    "\n",
    "# groupby + max : âge max par filière\n",
    "max_age = df.groupby('Filière')['Age'].max()\n",
    "print(\"\\nÂge max par filière :\")\n",
    "print(max_age)\n",
    "\n",
    "# query simple : ceux avec Age > 25\n",
    "filtres_simple = df.query('Age > 25')\n",
    "print(\"\\nÉtudiants avec Age > 25 :\")\n",
    "print(filtres_simple)\n",
    "\n",
    "#utulisation de loc\n",
    "loc_simple=df.loc[0, 'Prénom']\n",
    "print(loc_simple)\n",
    "\n",
    "#utulisation de iloc\n",
    "iloc_simple=df.iloc[2, 1]\n",
    "print(iloc_simple)\n"
   ]
  },
  {
   "cell_type": "code",
   "execution_count": 3,
   "metadata": {},
   "outputs": [
    {
     "name": "stdout",
     "output_type": "stream",
     "text": [
      "\n",
      "Découpage en tranches d'âge (cut) :\n",
      "   Age    Tranche_Age\n",
      "3   20          Jeune\n",
      "1   22          Jeune\n",
      "0   26  Intermédiaire\n",
      "2   33         Sénior\n"
     ]
    }
   ],
   "source": [
    "# Découpage des âges en catégories\n",
    "df['Tranche_Age'] = pd.cut(\n",
    "    df['Age'],\n",
    "    bins=[0, 25, 30, 40],\n",
    "    labels=['Jeune', 'Intermédiaire', 'Sénior']\n",
    ")\n",
    "print(\"\\nDécoupage en tranches d'âge (cut) :\")\n",
    "print(df[['Age', 'Tranche_Age']])\n"
   ]
  },
  {
   "cell_type": "code",
   "execution_count": 4,
   "metadata": {},
   "outputs": [
    {
     "name": "stdout",
     "output_type": "stream",
     "text": [
      "\n",
      "Explode :\n",
      "     Nom Langages\n",
      "0  Alice   Python\n",
      "0  Alice        R\n",
      "1    Bob      SQL\n",
      "1    Bob   Python\n",
      "1    Bob     Java\n"
     ]
    }
   ],
   "source": [
    "# Exemple avec des langages par personne\n",
    "df_langages = pd.DataFrame({\n",
    "    'Nom': ['Alice', 'Bob'],\n",
    "    'Langages': [['Python', 'R'], ['SQL', 'Python', 'Java']]\n",
    "})\n",
    "\n",
    "df_exploded = df_langages.explode('Langages')\n",
    "print(\"\\nExplode :\")\n",
    "print(df_exploded)\n"
   ]
  },
  {
   "cell_type": "code",
   "execution_count": null,
   "metadata": {},
   "outputs": [
    {
     "name": "stdout",
     "output_type": "stream",
     "text": [
      "\n",
      "Stack :\n",
      "3  Filière    Parfait\n",
      "   Autre            X\n",
      "1  Filière      Beryl\n",
      "   Autre            Y\n",
      "0  Filière      Beryl\n",
      "   Autre            Z\n",
      "2  Filière      Kevin\n",
      "   Autre            W\n",
      "dtype: object\n",
      "\n",
      "Unstack :\n",
      "   Filière Autre\n",
      "3  Parfait     X\n",
      "1    Beryl     Y\n",
      "0    Beryl     Z\n",
      "2    Kevin     W\n"
     ]
    }
   ],
   "source": [
    "# Reprendre un DataFrame simple\n",
    "df_simple = df[['Filière']].copy()\n",
    "\n",
    "# Ajouter une autre colonne\n",
    "df_simple['Autre'] = ['X', 'Y', 'Z', 'W']\n",
    "\n",
    "# stack\n",
    "stacked = df_simple.stack()\n",
    "print(\"\\nStack :\")\n",
    "print(stacked)\n",
    "\n",
    "# unstack\n",
    "unstacked = stacked.unstack()\n",
    "print(\"\\nUnstack :\")\n",
    "print(unstacked)\n"
   ]
  },
  {
   "cell_type": "code",
   "execution_count": null,
   "metadata": {},
   "outputs": [
    {
     "name": "stdout",
     "output_type": "stream",
     "text": [
      "\n",
      "Valeurs aberrantes détectées :\n",
      "Empty DataFrame\n",
      "Columns: [Prénom, Age, Filière, Tranche_Age]\n",
      "Index: []\n"
     ]
    }
   ],
   "source": [
    "\n",
    "Q1 = df['Age'].quantile(0.25)  \n",
    "Q3 = df['Age'].quantile(0.75)  \n",
    "IQR = Q3 - Q1                  \n",
    "df_outliers = df[\n",
    "    (df['Age'] < Q1 - 1.5 * IQR) | \n",
    "    (df['Age'] > Q3 + 1.5 * IQR)\n",
    "]\n",
    "print(\"\\nValeurs détectées :\")\n",
    "print(df_outliers)\n"
   ]
  }
 ],
 "metadata": {
  "kernelspec": {
   "display_name": "datascience",
   "language": "python",
   "name": "python3"
  },
  "language_info": {
   "codemirror_mode": {
    "name": "ipython",
    "version": 3
   },
   "file_extension": ".py",
   "mimetype": "text/x-python",
   "name": "python",
   "nbconvert_exporter": "python",
   "pygments_lexer": "ipython3",
   "version": "3.9.21"
  }
 },
 "nbformat": 4,
 "nbformat_minor": 2
}
