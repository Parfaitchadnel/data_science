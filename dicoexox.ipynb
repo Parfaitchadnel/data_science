{
 "cells": [
  {
   "cell_type": "code",
   "execution_count": 79,
   "metadata": {},
   "outputs": [
    {
     "data": {
      "text/html": [
       "<div>\n",
       "<style scoped>\n",
       "    .dataframe tbody tr th:only-of-type {\n",
       "        vertical-align: middle;\n",
       "    }\n",
       "\n",
       "    .dataframe tbody tr th {\n",
       "        vertical-align: top;\n",
       "    }\n",
       "\n",
       "    .dataframe thead th {\n",
       "        text-align: right;\n",
       "    }\n",
       "</style>\n",
       "<table border=\"1\" class=\"dataframe\">\n",
       "  <thead>\n",
       "    <tr style=\"text-align: right;\">\n",
       "      <th></th>\n",
       "      <th>Prénom</th>\n",
       "      <th>Age</th>\n",
       "      <th>Filière</th>\n",
       "    </tr>\n",
       "  </thead>\n",
       "  <tbody>\n",
       "    <tr>\n",
       "      <th>0</th>\n",
       "      <td>Beryl</td>\n",
       "      <td>26</td>\n",
       "      <td>A</td>\n",
       "    </tr>\n",
       "    <tr>\n",
       "      <th>1</th>\n",
       "      <td>Sarah</td>\n",
       "      <td>22</td>\n",
       "      <td>A</td>\n",
       "    </tr>\n",
       "    <tr>\n",
       "      <th>2</th>\n",
       "      <td>Kevin</td>\n",
       "      <td>33</td>\n",
       "      <td>C</td>\n",
       "    </tr>\n",
       "    <tr>\n",
       "      <th>3</th>\n",
       "      <td>Parfait</td>\n",
       "      <td>20</td>\n",
       "      <td>B</td>\n",
       "    </tr>\n",
       "  </tbody>\n",
       "</table>\n",
       "</div>"
      ],
      "text/plain": [
       "    Prénom  Age Filière\n",
       "0    Beryl   26       A\n",
       "1    Sarah   22       A\n",
       "2    Kevin   33       C\n",
       "3  Parfait   20       B"
      ]
     },
     "execution_count": 79,
     "metadata": {},
     "output_type": "execute_result"
    }
   ],
   "source": [
    "import pandas as pd\n",
    "import numpy as np\n",
    "data = {\n",
    "    \"Prénom\": ['Beryl', 'Sarah', 'Kevin', 'Parfait'],\n",
    "    \"Age\": [26, 22, 33, 20],\n",
    "    \"Filière\": ['A', 'A', 'C', 'B']\n",
    "}\n",
    "df = pd.DataFrame(data)\n",
    "df\n"
   ]
  },
  {
   "cell_type": "code",
   "execution_count": 39,
   "metadata": {},
   "outputs": [
    {
     "data": {
      "text/html": [
       "<div>\n",
       "<style scoped>\n",
       "    .dataframe tbody tr th:only-of-type {\n",
       "        vertical-align: middle;\n",
       "    }\n",
       "\n",
       "    .dataframe tbody tr th {\n",
       "        vertical-align: top;\n",
       "    }\n",
       "\n",
       "    .dataframe thead th {\n",
       "        text-align: right;\n",
       "    }\n",
       "</style>\n",
       "<table border=\"1\" class=\"dataframe\">\n",
       "  <thead>\n",
       "    <tr style=\"text-align: right;\">\n",
       "      <th></th>\n",
       "      <th>Prénom</th>\n",
       "      <th>Age</th>\n",
       "      <th>Filière</th>\n",
       "    </tr>\n",
       "  </thead>\n",
       "  <tbody>\n",
       "    <tr>\n",
       "      <th>0</th>\n",
       "      <td>Beryl</td>\n",
       "      <td>26</td>\n",
       "      <td>Maths</td>\n",
       "    </tr>\n",
       "    <tr>\n",
       "      <th>1</th>\n",
       "      <td>Sarah</td>\n",
       "      <td>22</td>\n",
       "      <td>Maths</td>\n",
       "    </tr>\n",
       "    <tr>\n",
       "      <th>2</th>\n",
       "      <td>Kevin</td>\n",
       "      <td>33</td>\n",
       "      <td>Info</td>\n",
       "    </tr>\n",
       "    <tr>\n",
       "      <th>3</th>\n",
       "      <td>Parfait</td>\n",
       "      <td>20</td>\n",
       "      <td>Physique</td>\n",
       "    </tr>\n",
       "  </tbody>\n",
       "</table>\n",
       "</div>"
      ],
      "text/plain": [
       "    Prénom  Age   Filière\n",
       "0    Beryl   26     Maths\n",
       "1    Sarah   22     Maths\n",
       "2    Kevin   33      Info\n",
       "3  Parfait   20  Physique"
      ]
     },
     "execution_count": 39,
     "metadata": {},
     "output_type": "execute_result"
    }
   ],
   "source": [
    "# map() : Remplacement des codes filières\n",
    "df['Filière'] = df['Filière'].map({'A': 'Maths', 'B': 'Physique', 'C': 'Info'})\n",
    "df"
   ]
  },
  {
   "cell_type": "code",
   "execution_count": 40,
   "metadata": {},
   "outputs": [
    {
     "data": {
      "text/html": [
       "<div>\n",
       "<style scoped>\n",
       "    .dataframe tbody tr th:only-of-type {\n",
       "        vertical-align: middle;\n",
       "    }\n",
       "\n",
       "    .dataframe tbody tr th {\n",
       "        vertical-align: top;\n",
       "    }\n",
       "\n",
       "    .dataframe thead th {\n",
       "        text-align: right;\n",
       "    }\n",
       "</style>\n",
       "<table border=\"1\" class=\"dataframe\">\n",
       "  <thead>\n",
       "    <tr style=\"text-align: right;\">\n",
       "      <th></th>\n",
       "      <th>Age</th>\n",
       "      <th>Filière</th>\n",
       "    </tr>\n",
       "    <tr>\n",
       "      <th>Prénom</th>\n",
       "      <th></th>\n",
       "      <th></th>\n",
       "    </tr>\n",
       "  </thead>\n",
       "  <tbody>\n",
       "    <tr>\n",
       "      <th>Beryl</th>\n",
       "      <td>26</td>\n",
       "      <td>Maths</td>\n",
       "    </tr>\n",
       "    <tr>\n",
       "      <th>Sarah</th>\n",
       "      <td>22</td>\n",
       "      <td>Maths</td>\n",
       "    </tr>\n",
       "    <tr>\n",
       "      <th>Kevin</th>\n",
       "      <td>33</td>\n",
       "      <td>Info</td>\n",
       "    </tr>\n",
       "    <tr>\n",
       "      <th>Parfait</th>\n",
       "      <td>20</td>\n",
       "      <td>Physique</td>\n",
       "    </tr>\n",
       "  </tbody>\n",
       "</table>\n",
       "</div>"
      ],
      "text/plain": [
       "         Age   Filière\n",
       "Prénom                \n",
       "Beryl     26     Maths\n",
       "Sarah     22     Maths\n",
       "Kevin     33      Info\n",
       "Parfait   20  Physique"
      ]
     },
     "execution_count": 40,
     "metadata": {},
     "output_type": "execute_result"
    }
   ],
   "source": [
    "#set_index() - Prénom comme index\n",
    "df.set_index('Prénom', inplace=True)\n",
    "df"
   ]
  },
  {
   "cell_type": "code",
   "execution_count": 41,
   "metadata": {},
   "outputs": [
    {
     "data": {
      "text/html": [
       "<div>\n",
       "<style scoped>\n",
       "    .dataframe tbody tr th:only-of-type {\n",
       "        vertical-align: middle;\n",
       "    }\n",
       "\n",
       "    .dataframe tbody tr th {\n",
       "        vertical-align: top;\n",
       "    }\n",
       "\n",
       "    .dataframe thead th {\n",
       "        text-align: right;\n",
       "    }\n",
       "</style>\n",
       "<table border=\"1\" class=\"dataframe\">\n",
       "  <thead>\n",
       "    <tr style=\"text-align: right;\">\n",
       "      <th></th>\n",
       "      <th>Age</th>\n",
       "      <th>Filière</th>\n",
       "    </tr>\n",
       "    <tr>\n",
       "      <th>Prénom</th>\n",
       "      <th></th>\n",
       "      <th></th>\n",
       "    </tr>\n",
       "  </thead>\n",
       "  <tbody>\n",
       "    <tr>\n",
       "      <th>Beryl</th>\n",
       "      <td>27</td>\n",
       "      <td>Maths</td>\n",
       "    </tr>\n",
       "    <tr>\n",
       "      <th>Sarah</th>\n",
       "      <td>23</td>\n",
       "      <td>Maths</td>\n",
       "    </tr>\n",
       "    <tr>\n",
       "      <th>Kevin</th>\n",
       "      <td>34</td>\n",
       "      <td>Info</td>\n",
       "    </tr>\n",
       "    <tr>\n",
       "      <th>Parfait</th>\n",
       "      <td>21</td>\n",
       "      <td>Physique</td>\n",
       "    </tr>\n",
       "  </tbody>\n",
       "</table>\n",
       "</div>"
      ],
      "text/plain": [
       "         Age   Filière\n",
       "Prénom                \n",
       "Beryl     27     Maths\n",
       "Sarah     23     Maths\n",
       "Kevin     34      Info\n",
       "Parfait   21  Physique"
      ]
     },
     "execution_count": 41,
     "metadata": {},
     "output_type": "execute_result"
    }
   ],
   "source": [
    "#apply() - Ajouter 1 an à chaque âge\n",
    "df['Age'] = df['Age'].apply(lambda x: x + 1)\n",
    "df"
   ]
  },
  {
   "cell_type": "code",
   "execution_count": 42,
   "metadata": {},
   "outputs": [
    {
     "name": "stdout",
     "output_type": "stream",
     "text": [
      "Moyenne d'âge : 26.25\n"
     ]
    }
   ],
   "source": [
    "#mean() - Moyenne d’âge\n",
    "print(\"Moyenne d'âge :\", df['Age'].mean())"
   ]
  },
  {
   "cell_type": "code",
   "execution_count": 44,
   "metadata": {},
   "outputs": [
    {
     "data": {
      "text/html": [
       "<div>\n",
       "<style scoped>\n",
       "    .dataframe tbody tr th:only-of-type {\n",
       "        vertical-align: middle;\n",
       "    }\n",
       "\n",
       "    .dataframe tbody tr th {\n",
       "        vertical-align: top;\n",
       "    }\n",
       "\n",
       "    .dataframe thead th {\n",
       "        text-align: right;\n",
       "    }\n",
       "</style>\n",
       "<table border=\"1\" class=\"dataframe\">\n",
       "  <thead>\n",
       "    <tr style=\"text-align: right;\">\n",
       "      <th></th>\n",
       "      <th>Age</th>\n",
       "      <th>Filière</th>\n",
       "    </tr>\n",
       "    <tr>\n",
       "      <th>Prénom</th>\n",
       "      <th></th>\n",
       "      <th></th>\n",
       "    </tr>\n",
       "  </thead>\n",
       "  <tbody>\n",
       "    <tr>\n",
       "      <th>Parfait</th>\n",
       "      <td>21</td>\n",
       "      <td>Physique</td>\n",
       "    </tr>\n",
       "    <tr>\n",
       "      <th>Sarah</th>\n",
       "      <td>23</td>\n",
       "      <td>Maths</td>\n",
       "    </tr>\n",
       "    <tr>\n",
       "      <th>Beryl</th>\n",
       "      <td>27</td>\n",
       "      <td>Maths</td>\n",
       "    </tr>\n",
       "    <tr>\n",
       "      <th>Kevin</th>\n",
       "      <td>34</td>\n",
       "      <td>Info</td>\n",
       "    </tr>\n",
       "  </tbody>\n",
       "</table>\n",
       "</div>"
      ],
      "text/plain": [
       "         Age   Filière\n",
       "Prénom                \n",
       "Parfait   21  Physique\n",
       "Sarah     23     Maths\n",
       "Beryl     27     Maths\n",
       "Kevin     34      Info"
      ]
     },
     "execution_count": 44,
     "metadata": {},
     "output_type": "execute_result"
    }
   ],
   "source": [
    "#sort_values() - Trier par âge\n",
    "df.sort_values(by='Age', inplace=True)\n",
    "df"
   ]
  },
  {
   "cell_type": "code",
   "execution_count": 45,
   "metadata": {},
   "outputs": [
    {
     "name": "stdout",
     "output_type": "stream",
     "text": [
      "\n",
      "Pivot Table :\n",
      "           Age\n",
      "Filière       \n",
      "Info      34.0\n",
      "Maths     25.0\n",
      "Physique  21.0\n"
     ]
    }
   ],
   "source": [
    "#pivot_table() - Moyenne par filière\n",
    "print(\"\\nPivot Table :\")\n",
    "print(df.pivot_table(values='Age', index='Filière', aggfunc='mean'))"
   ]
  },
  {
   "cell_type": "code",
   "execution_count": 46,
   "metadata": {},
   "outputs": [
    {
     "name": "stdout",
     "output_type": "stream",
     "text": [
      "\n",
      "Max âge par filière :\n",
      "Filière\n",
      "Info        34\n",
      "Maths       27\n",
      "Physique    21\n",
      "Name: Age, dtype: int64\n"
     ]
    }
   ],
   "source": [
    "#groupby() + max() - Âge max par filière\n",
    "print(\"\\nMax âge par filière :\")\n",
    "print(df.groupby('Filière')['Age'].max())"
   ]
  },
  {
   "cell_type": "code",
   "execution_count": 47,
   "metadata": {},
   "outputs": [
    {
     "name": "stdout",
     "output_type": "stream",
     "text": [
      "\n",
      "Query filtré :\n",
      "        Age Filière\n",
      "Prénom             \n",
      "Beryl    27   Maths\n"
     ]
    }
   ],
   "source": [
    "#query() - Âge > 25 et filière Maths\n",
    "print(\"\\nQuery filtré :\")\n",
    "print(df.query(\"Age > 25 and Filière == 'Maths'\"))"
   ]
  },
  {
   "cell_type": "code",
   "execution_count": 48,
   "metadata": {},
   "outputs": [
    {
     "name": "stdout",
     "output_type": "stream",
     "text": [
      "\n",
      "Filière Maths ou Info :\n",
      "        Age Filière\n",
      "Prénom             \n",
      "Sarah    23   Maths\n",
      "Beryl    27   Maths\n",
      "Kevin    34    Info\n"
     ]
    }
   ],
   "source": [
    "#isin() - Appartenance à une liste\n",
    "print(\"\\nFilière Maths ou Info :\")\n",
    "print(df[df['Filière'].isin(['Maths', 'Info'])])"
   ]
  },
  {
   "cell_type": "code",
   "execution_count": 66,
   "metadata": {},
   "outputs": [
    {
     "name": "stdout",
     "output_type": "stream",
     "text": [
      "    Prénom  Age Filière\n",
      "0    Beryl   26       A\n",
      "1    Sarah   22       A\n",
      "2    Kevin   33       C\n",
      "3  Parfait   20       B\n"
     ]
    }
   ],
   "source": [
    "# drop_duplicates() - Retirer les doublons\n",
    "df_dupli = df.copy()\n",
    "df_dupli.loc['Copie'] = df_dupli.iloc[0]\n",
    "df_dupli = df_dupli.drop_duplicates()\n",
    "print(df_dupli)"
   ]
  },
  {
   "cell_type": "code",
   "execution_count": null,
   "metadata": {},
   "outputs": [
    {
     "name": "stdout",
     "output_type": "stream",
     "text": [
      "          Prénom   Age Filière\n",
      "0          Beryl  26.0       A\n",
      "1          Sarah  22.0       A\n",
      "2          Kevin  33.0       C\n",
      "3        Parfait  20.0       B\n",
      "Inconnu      NaN   NaN     NaN\n"
     ]
    }
   ],
   "source": [
    "\n",
    "# Copie du DataFrame\n",
    "df_nan = df.copy()\n",
    "# Ajouter une ligne avec des NaN pour toutes les colonnes\n",
    "df_nan.loc['Inconnu'] = [np.nan] * len(df_nan.columns)\n",
    "# Supprimer les lignes avec NaN\n",
    "df_dropna = df_nan.dropna()\n",
    "# Remplacer les NaN par défaut\n",
    "df_fillna = df_nan.fillna({'Age': 0, 'Filière': 'Inconnue', 'Tranche': 'Inconnue'})\n",
    "# Vérification\n",
    "print(df_nan)\n"
   ]
  },
  {
   "cell_type": "code",
   "execution_count": 65,
   "metadata": {},
   "outputs": [
    {
     "name": "stdout",
     "output_type": "stream",
     "text": [
      "        Age Filière\n",
      "Prénom             \n",
      "soso     19    Info\n",
      "nina     28   Maths\n"
     ]
    }
   ],
   "source": [
    "#concat() - Ajouter un autre tableau\n",
    "autres = pd.DataFrame({\n",
    "    'Prénom': ['soso', 'nina'],\n",
    "    'Age': [19, 28],\n",
    "    'Filière': ['Info', 'Maths']\n",
    "}).set_index('Prénom')\n",
    "df_concat = pd.concat([df, autres])\n",
    "print(autres)"
   ]
  },
  {
   "cell_type": "code",
   "execution_count": 67,
   "metadata": {},
   "outputs": [
    {
     "name": "stdout",
     "output_type": "stream",
     "text": [
      "    Prénom  Note\n",
      "0    Beryl    15\n",
      "1    Sarah    18\n",
      "2    Kevin    13\n",
      "3  Parfait    17\n"
     ]
    }
   ],
   "source": [
    "# merge() - Fusion par colonne 'Prénom'\n",
    "notes = pd.DataFrame({\n",
    "    'Prénom': ['Beryl', 'Sarah', 'Kevin', 'Parfait'],\n",
    "    'Note': [15, 18, 13, 17]\n",
    "})\n",
    "df_merged = df.reset_index().merge(notes, on='Prénom')\n",
    "print(notes)"
   ]
  },
  {
   "cell_type": "code",
   "execution_count": 70,
   "metadata": {},
   "outputs": [
    {
     "name": "stdout",
     "output_type": "stream",
     "text": [
      "         Note\n",
      "Prénom       \n",
      "Beryl      15\n",
      "Sarah      18\n",
      "Kevin      13\n",
      "Parfait    17\n"
     ]
    }
   ],
   "source": [
    "#join() - Fusion par index\n",
    "df_notes = notes.set_index('Prénom')\n",
    "df_joined = df.join(df_notes)\n",
    "print(df_notes)"
   ]
  },
  {
   "cell_type": "code",
   "execution_count": 72,
   "metadata": {},
   "outputs": [
    {
     "data": {
      "text/html": [
       "<div>\n",
       "<style scoped>\n",
       "    .dataframe tbody tr th:only-of-type {\n",
       "        vertical-align: middle;\n",
       "    }\n",
       "\n",
       "    .dataframe tbody tr th {\n",
       "        vertical-align: top;\n",
       "    }\n",
       "\n",
       "    .dataframe thead th {\n",
       "        text-align: right;\n",
       "    }\n",
       "</style>\n",
       "<table border=\"1\" class=\"dataframe\">\n",
       "  <thead>\n",
       "    <tr style=\"text-align: right;\">\n",
       "      <th></th>\n",
       "      <th>Prénom</th>\n",
       "      <th>Age</th>\n",
       "      <th>Filière</th>\n",
       "      <th>Tranche</th>\n",
       "    </tr>\n",
       "  </thead>\n",
       "  <tbody>\n",
       "    <tr>\n",
       "      <th>0</th>\n",
       "      <td>Beryl</td>\n",
       "      <td>26</td>\n",
       "      <td>A</td>\n",
       "      <td>Intermédiaire</td>\n",
       "    </tr>\n",
       "    <tr>\n",
       "      <th>1</th>\n",
       "      <td>Sarah</td>\n",
       "      <td>22</td>\n",
       "      <td>A</td>\n",
       "      <td>Jeune</td>\n",
       "    </tr>\n",
       "    <tr>\n",
       "      <th>2</th>\n",
       "      <td>Kevin</td>\n",
       "      <td>33</td>\n",
       "      <td>C</td>\n",
       "      <td>Sénior</td>\n",
       "    </tr>\n",
       "    <tr>\n",
       "      <th>3</th>\n",
       "      <td>Parfait</td>\n",
       "      <td>20</td>\n",
       "      <td>B</td>\n",
       "      <td>Jeune</td>\n",
       "    </tr>\n",
       "  </tbody>\n",
       "</table>\n",
       "</div>"
      ],
      "text/plain": [
       "    Prénom  Age Filière        Tranche\n",
       "0    Beryl   26       A  Intermédiaire\n",
       "1    Sarah   22       A          Jeune\n",
       "2    Kevin   33       C         Sénior\n",
       "3  Parfait   20       B          Jeune"
      ]
     },
     "execution_count": 72,
     "metadata": {},
     "output_type": "execute_result"
    }
   ],
   "source": [
    "#cut() - Tranches d’âge\n",
    "df['Tranche'] = pd.cut(df['Age'], bins=[0, 25, 30, 40], labels=['Jeune', 'Intermédiaire', 'Sénior'])\n",
    "df"
   ]
  },
  {
   "cell_type": "code",
   "execution_count": 74,
   "metadata": {},
   "outputs": [
    {
     "name": "stdout",
     "output_type": "stream",
     "text": [
      "     Nom       Langages\n",
      "0  Alice    [Python, R]\n",
      "1    Bob  [SQL, Python]\n"
     ]
    }
   ],
   "source": [
    "#explode() - Séparer les listes\n",
    "df_lang = pd.DataFrame({\n",
    "    'Nom': ['Alice', 'Bob'],\n",
    "    'Langages': [['Python', 'R'], ['SQL', 'Python']]\n",
    "})\n",
    "df_exploded = df_lang.explode('Langages')\n",
    "print(df_lang)"
   ]
  },
  {
   "cell_type": "code",
   "execution_count": 75,
   "metadata": {},
   "outputs": [
    {
     "name": "stdout",
     "output_type": "stream",
     "text": [
      "0  Age        26\n",
      "   Filière     A\n",
      "1  Age        22\n",
      "   Filière     A\n",
      "2  Age        33\n",
      "   Filière     C\n",
      "3  Age        20\n",
      "   Filière     B\n",
      "dtype: object\n",
      "  Age Filière\n",
      "0  26       A\n",
      "1  22       A\n",
      "2  33       C\n",
      "3  20       B\n"
     ]
    }
   ],
   "source": [
    "#stack() et unstack()\n",
    "stacked = df[['Age', 'Filière']].stack()\n",
    "unstacked = stacked.unstack()\n",
    "print(stacked)\n",
    "print(unstacked)"
   ]
  },
  {
   "cell_type": "code",
   "execution_count": 85,
   "metadata": {},
   "outputs": [
    {
     "name": "stdout",
     "output_type": "stream",
     "text": [
      "26\n"
     ]
    }
   ],
   "source": [
    "data = {\n",
    "    \"Prénom\": ['Beryl', 'Sarah', 'Kevin', 'Parfait'],\n",
    "    \"Age\": [26, 22, 33, 20],\n",
    "    \"Filière\": ['A', 'A', 'C', 'B']\n",
    "}\n",
    "df = pd.DataFrame(data)\n",
    "df['Filière'] = df['Filière'].map({'A': 'Maths', 'B': 'Physique', 'C': 'Info'})\n",
    "df.set_index('Prénom', inplace=True)\n",
    "\n",
    "print(df.loc['Beryl', 'Age'])\n"
   ]
  },
  {
   "cell_type": "code",
   "execution_count": 84,
   "metadata": {},
   "outputs": [
    {
     "name": "stdout",
     "output_type": "stream",
     "text": [
      "\n",
      "Outliers détectés :\n",
      "Empty DataFrame\n",
      "Columns: [Age, Filière]\n",
      "Index: []\n"
     ]
    }
   ],
   "source": [
    "#Détection des outliers\n",
    "Q1 = df['Age'].quantile(0.25)\n",
    "Q3 = df['Age'].quantile(0.75)\n",
    "IQR = Q3 - Q1\n",
    "outliers = df[(df['Age'] < Q1 - 1.5 * IQR) | (df['Age'] > Q3 + 1.5 * IQR)]\n",
    "print(\"\\nOutliers détectés :\")\n",
    "print(outliers)"
   ]
  }
 ],
 "metadata": {
  "kernelspec": {
   "display_name": "datascience",
   "language": "python",
   "name": "python3"
  },
  "language_info": {
   "codemirror_mode": {
    "name": "ipython",
    "version": 3
   },
   "file_extension": ".py",
   "mimetype": "text/x-python",
   "name": "python",
   "nbconvert_exporter": "python",
   "pygments_lexer": "ipython3",
   "version": "3.9.21"
  }
 },
 "nbformat": 4,
 "nbformat_minor": 2
}
