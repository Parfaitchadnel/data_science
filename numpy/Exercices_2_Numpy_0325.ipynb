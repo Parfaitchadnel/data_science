{
 "cells": [
  {
   "cell_type": "markdown",
   "id": "9a35fc6ba7c718d0",
   "metadata": {},
   "source": [
    "# Consigne: Complétez les cellules de code puis exécutez-les"
   ]
  },
  {
   "cell_type": "markdown",
   "id": "291e0bb9",
   "metadata": {},
   "source": [
    "### 1. Convertissez un tableau de flottants (32 bits) en un tableau d'entiers (32 bits) sur place"
   ]
  },
  {
   "cell_type": "code",
   "execution_count": 11,
   "id": "521ba6079451d907",
   "metadata": {},
   "outputs": [
    {
     "name": "stdout",
     "output_type": "stream",
     "text": [
      "[1 2 3]\n"
     ]
    }
   ],
   "source": [
    "import numpy as np\n",
    "a = np.array([1.1, 2.9, 3.5], dtype=np.float32)\n",
    "a = a.astype(np.int32)\n",
    "print(a)"
   ]
  },
  {
   "cell_type": "markdown",
   "id": "94a8ad69",
   "metadata": {},
   "source": [
    "### 2. Quel est l'équivalent de `enumerate` pour les tableaux NumPy ?"
   ]
  },
  {
   "cell_type": "code",
   "execution_count": 14,
   "id": "ecad21e6fdd97a62",
   "metadata": {},
   "outputs": [
    {
     "name": "stdout",
     "output_type": "stream",
     "text": [
      "(0, 0) 10\n",
      "(0, 1) 20\n",
      "(1, 0) 30\n",
      "(1, 1) 40\n"
     ]
    }
   ],
   "source": [
    "a = np.array([[10, 20], [30, 40]])\n",
    "for index, value in np.ndenumerate(a):\n",
    "    print(index, value)"
   ]
  },
  {
   "cell_type": "markdown",
   "id": "9e002afc9f8c319c",
   "metadata": {},
   "source": [
    "### 3. Placez aléatoirement 20 éléments dans un tableau t."
   ]
  },
  {
   "cell_type": "code",
   "execution_count": 15,
   "id": "a80e5c9b",
   "metadata": {},
   "outputs": [
    {
     "name": "stdout",
     "output_type": "stream",
     "text": [
      "[0.45862161 0.1988137  0.21072364 0.99433499 0.45804608 0.45320999\n",
      " 0.07739009 0.12419609 0.41805274 0.99706199 0.36642771 0.34198714\n",
      " 0.89994572 0.74067141 0.48496813 0.2731219  0.92558219 0.7031061\n",
      " 0.71400083 0.65822668]\n"
     ]
    }
   ],
   "source": [
    "t = np.random.rand(20)\n",
    "print(t)"
   ]
  },
  {
   "cell_type": "markdown",
   "id": "c071573dc1e9466f",
   "metadata": {},
   "source": [
    "### 4. Soustrayez la moyenne de chaque ligne de t."
   ]
  },
  {
   "cell_type": "markdown",
   "id": "f578f4efa736ac55",
   "metadata": {},
   "source": []
  },
  {
   "cell_type": "code",
   "execution_count": 17,
   "id": "5824676831c88724",
   "metadata": {},
   "outputs": [
    {
     "name": "stdout",
     "output_type": "stream",
     "text": [
      "[[-17.4 -22.4  32.6  36.6 -29.4]\n",
      " [-21.4 -14.4  15.6  25.6  -5.4]\n",
      " [ 21.2 -10.8 -26.8  32.2 -15.8]\n",
      " [ 54.6   0.6  -1.4 -36.4 -17.4]\n",
      " [ 26.4   6.4  26.4 -44.6 -14.6]]\n"
     ]
    }
   ],
   "source": [
    "import numpy as np\n",
    "t = np.random.randint(0, 100, size=(5, 5))\n",
    "t_centered = t - t.mean(axis=1, keepdims=True)\n",
    "print(t_centered)\n"
   ]
  },
  {
   "cell_type": "markdown",
   "id": "c6c5f2349b32be01",
   "metadata": {},
   "source": [
    "### 5. Creez un tableau t1 de dimension 12\\*13 puis triez le par la  10ième colonne."
   ]
  },
  {
   "cell_type": "code",
   "execution_count": 18,
   "id": "c2306e7b6dc1bc3",
   "metadata": {},
   "outputs": [
    {
     "name": "stdout",
     "output_type": "stream",
     "text": [
      "[[14 98 28 46 59 58 20 11 80  2 27 28 75]\n",
      " [13 78 84 28 78 73 37 59 68 18 69 19 76]\n",
      " [29 51  9 30 37 54  4 74 30 20 77 59 15]\n",
      " [92 65 25  5 48 68  0 17 33 23 78 48 77]\n",
      " [15 23 54 76 48 60 96 81  4 25 39 87 55]\n",
      " [45 71 32 90 79  5  3 29 41 39 89 42 28]\n",
      " [58 46 84 24 76 19 88 41 29 51 76 65 86]\n",
      " [30 76 35 75 51 15 33 91 12 54 25 79 88]\n",
      " [68 18 55 80 72 44  4 62 11 64 75 50  4]\n",
      " [30  8 84 26 91 49 47 35 29 81 34 99 28]\n",
      " [33 40 54 73 57 19 17 33 93 84 60 70 99]\n",
      " [28 72 92 32 64 97 72 57 67 91 94 82 47]]\n"
     ]
    }
   ],
   "source": [
    "t1 = np.random.randint(0, 100, size=(12, 13))\n",
    "t1_sorted = t1[t1[:, 9].argsort()]\n",
    "print(t1_sorted)"
   ]
  },
  {
   "cell_type": "markdown",
   "id": "f4038090",
   "metadata": {},
   "source": [
    "### 6. Vérifiez si t1 contient des colonnes nulles.\n"
   ]
  },
  {
   "cell_type": "code",
   "execution_count": 19,
   "id": "a1d108c189b66e89",
   "metadata": {},
   "outputs": [
    {
     "name": "stdout",
     "output_type": "stream",
     "text": [
      "Colonnes nulles : False\n"
     ]
    }
   ],
   "source": [
    "has_null_columns = np.any(np.all(t1 == 0, axis=0))\n",
    "print(\"Colonnes nulles :\", has_null_columns)"
   ]
  },
  {
   "cell_type": "markdown",
   "id": "2dfb4033",
   "metadata": {},
   "source": [
    "### 7. Afficher la diagonal de t1.\n"
   ]
  },
  {
   "cell_type": "code",
   "execution_count": 20,
   "id": "7a9c2287",
   "metadata": {},
   "outputs": [
    {
     "name": "stdout",
     "output_type": "stream",
     "text": [
      "[15 51 84 90 48 58 88 91 93 91 69 50]\n"
     ]
    }
   ],
   "source": [
    "diagonal = np.diag(t1)\n",
    "print(diagonal)"
   ]
  },
  {
   "cell_type": "markdown",
   "id": "7035c626",
   "metadata": {},
   "source": [
    "### 8. Considérez le vecteur [1, 2, 3, 4, 5], construissez un nouveau vecteur avec 3 zéros consécutifs entre chaque valeur."
   ]
  },
  {
   "cell_type": "code",
   "execution_count": 21,
   "id": "f6af16c1",
   "metadata": {},
   "outputs": [
    {
     "name": "stdout",
     "output_type": "stream",
     "text": [
      "[1 0 0 0 2 0 0 0 3 0 0 0 4 0 0 0 5]\n"
     ]
    }
   ],
   "source": [
    "v = np.array([1, 2, 3, 4, 5])\n",
    "v_with_zeros = np.zeros(len(v) * 4 - 3, dtype=int)\n",
    "v_with_zeros[::4] = v\n",
    "print(v_with_zeros)"
   ]
  },
  {
   "cell_type": "markdown",
   "id": "d49a23f1461cf9e1",
   "metadata": {},
   "source": [
    "### 9. Creez un tableau de dimension (5,5,3) puis multipliez le par un tableau de dimension (5,5)"
   ]
  },
  {
   "cell_type": "code",
   "execution_count": 22,
   "id": "cf8aa53b2c383e66",
   "metadata": {},
   "outputs": [
    {
     "name": "stdout",
     "output_type": "stream",
     "text": [
      "[[[0.20925453 0.26944331 0.18092517]\n",
      "  [0.03205424 0.00393384 0.00895822]\n",
      "  [0.06837194 0.5083171  0.12592857]\n",
      "  [0.03361089 0.48456021 0.13992612]\n",
      "  [0.67682157 0.23549759 0.46328084]]\n",
      "\n",
      " [[0.04358278 0.04047601 0.03822936]\n",
      "  [0.53724466 0.20271505 0.47670255]\n",
      "  [0.54512934 0.29435855 0.249462  ]\n",
      "  [0.11670145 0.09812603 0.03513049]\n",
      "  [0.01908314 0.12992864 0.01549765]]\n",
      "\n",
      " [[0.15366872 0.07097781 0.19737275]\n",
      "  [0.3643615  0.15191442 0.28069077]\n",
      "  [0.03276815 0.09134371 0.09145598]\n",
      "  [0.74896226 0.74237716 0.92555116]\n",
      "  [0.05558743 0.05597491 0.17400391]]\n",
      "\n",
      " [[0.03722888 0.4722677  0.0217106 ]\n",
      "  [0.3127174  0.20471152 0.19496132]\n",
      "  [0.06979959 0.1035893  0.07651527]\n",
      "  [0.01719429 0.33780296 0.21143015]\n",
      "  [0.40981563 0.43345382 0.25711686]]\n",
      "\n",
      " [[0.41867676 0.07312556 0.28008526]\n",
      "  [0.4487515  0.21154598 0.5981827 ]\n",
      "  [0.06320651 0.26464216 0.09986545]\n",
      "  [0.01722536 0.02773038 0.01505733]\n",
      "  [0.98589454 0.34292711 0.68176176]]]\n"
     ]
    }
   ],
   "source": [
    "a = np.random.rand(5, 5, 3)\n",
    "b = np.random.rand(5, 5)\n",
    "result = a * b[:, :, np.newaxis]\n",
    "print(result)"
   ]
  },
  {
   "cell_type": "markdown",
   "id": "fb2bf7cc75495c90",
   "metadata": {},
   "source": [
    "### 10.  Creez un tableau de dimension 12\\*5 rempli de nombres impairs puis inverser deux lignes du tableaU"
   ]
  },
  {
   "cell_type": "code",
   "execution_count": 23,
   "id": "2f975322",
   "metadata": {},
   "outputs": [
    {
     "name": "stdout",
     "output_type": "stream",
     "text": [
      "[[ 11  13  15  17  19]\n",
      " [  1   3   5   7   9]\n",
      " [ 21  23  25  27  29]\n",
      " [ 31  33  35  37  39]\n",
      " [ 41  43  45  47  49]\n",
      " [ 51  53  55  57  59]\n",
      " [ 61  63  65  67  69]\n",
      " [ 71  73  75  77  79]\n",
      " [ 81  83  85  87  89]\n",
      " [ 91  93  95  97  99]\n",
      " [101 103 105 107 109]\n",
      " [111 113 115 117 119]]\n"
     ]
    }
   ],
   "source": [
    "t = np.arange(1, 121, 2).reshape(12, 5)\n",
    "t[[0, 1]] = t[[1, 0]]  # inverser les lignes 0 et 1\n",
    "print(t)"
   ]
  },
  {
   "cell_type": "markdown",
   "id": "37a49831",
   "metadata": {},
   "source": [
    "### 11. Créez un tableau y de dimension 10\\*10 contenant des entiers compris entre 1 et 5 puis trouvez la valeur la plus fréquente dans le tableau"
   ]
  },
  {
   "cell_type": "code",
   "execution_count": 25,
   "id": "b900a5aa",
   "metadata": {},
   "outputs": [
    {
     "name": "stdout",
     "output_type": "stream",
     "text": [
      "Valeur la plus fréquente : 2\n"
     ]
    }
   ],
   "source": [
    "y = np.random.randint(1, 6, size=(10, 10))\n",
    "most_frequent = np.bincount(y.ravel()).argmax()\n",
    "print(\"Valeur la plus fréquente :\", most_frequent)"
   ]
  },
  {
   "cell_type": "markdown",
   "id": "f5ae032f",
   "metadata": {},
   "source": [
    "### 12. Extrayez tous les blocs contigus de 3x3 contenus dans y"
   ]
  },
  {
   "cell_type": "code",
   "execution_count": 26,
   "id": "f5ae2e9b",
   "metadata": {},
   "outputs": [
    {
     "name": "stdout",
     "output_type": "stream",
     "text": [
      "(8, 8, 3, 3)\n"
     ]
    }
   ],
   "source": [
    "from numpy.lib.stride_tricks import sliding_window_view\n",
    "blocks = sliding_window_view(y, (3, 3))\n",
    "print(blocks.shape)  # dimensions des blocs extraits"
   ]
  },
  {
   "cell_type": "markdown",
   "id": "7046772279e3b83d",
   "metadata": {},
   "source": [
    "### 13.   Afficher les n plus grandes valeurs de y\n"
   ]
  },
  {
   "cell_type": "code",
   "execution_count": 27,
   "id": "b8c9c4b6b53889a9",
   "metadata": {},
   "outputs": [
    {
     "name": "stdout",
     "output_type": "stream",
     "text": [
      "[5 5 5 5 5]\n"
     ]
    }
   ],
   "source": [
    "n = 5\n",
    "top_n = np.sort(y.ravel())[-n:]\n",
    "print(top_n)"
   ]
  },
  {
   "cell_type": "markdown",
   "id": "6bc35ba2",
   "metadata": {},
   "source": [
    "### 14. Considérez un tableau Z = [1,2,3,4,5,6,7,8,9,10,11,12,13,14],  générez un tableau R = [[1,2,3,4], [2,3,4,5], [3,4,5,6], ..., [11,12,13,14]]"
   ]
  },
  {
   "cell_type": "code",
   "execution_count": 28,
   "id": "2ad8db75",
   "metadata": {},
   "outputs": [
    {
     "name": "stdout",
     "output_type": "stream",
     "text": [
      "[[ 1  2  3  4]\n",
      " [ 2  3  4  5]\n",
      " [ 3  4  5  6]\n",
      " [ 4  5  6  7]\n",
      " [ 5  6  7  8]\n",
      " [ 6  7  8  9]\n",
      " [ 7  8  9 10]\n",
      " [ 8  9 10 11]\n",
      " [ 9 10 11 12]\n",
      " [10 11 12 13]\n",
      " [11 12 13 14]]\n"
     ]
    }
   ],
   "source": [
    "Z = np.arange(1, 15)\n",
    "R = sliding_window_view(Z, 4)\n",
    "print(R)"
   ]
  },
  {
   "cell_type": "markdown",
   "id": "d17818f7",
   "metadata": {},
   "source": [
    "### 15. Calculez le rang de z"
   ]
  },
  {
   "cell_type": "code",
   "execution_count": 29,
   "id": "91798923",
   "metadata": {},
   "outputs": [
    {
     "name": "stdout",
     "output_type": "stream",
     "text": [
      "Rang de Z : 2\n"
     ]
    }
   ],
   "source": [
    "Z_mat = np.arange(1, 15).reshape(2, 7)\n",
    "rank = np.linalg.matrix_rank(Z_mat)\n",
    "print(\"Rang de Z :\", rank)"
   ]
  },
  {
   "cell_type": "markdown",
   "id": "ca3dde4a",
   "metadata": {},
   "source": [
    "### 16. Étant donné un nombre arbitraire de vecteurs, construisez le produit cartésien (toutes les combinaisons de chaque élément)."
   ]
  },
  {
   "cell_type": "code",
   "execution_count": 30,
   "id": "8d4685a8",
   "metadata": {},
   "outputs": [
    {
     "name": "stdout",
     "output_type": "stream",
     "text": [
      "[[1 3 5]\n",
      " [1 4 5]\n",
      " [2 3 5]\n",
      " [2 4 5]\n",
      " [1 3 6]\n",
      " [1 4 6]\n",
      " [2 3 6]\n",
      " [2 4 6]]\n"
     ]
    }
   ],
   "source": [
    "arrays = [np.array([1, 2]), np.array([3, 4]), np.array([5, 6])]\n",
    "cartesian = np.array(np.meshgrid(*arrays)).T.reshape(-1, len(arrays))\n",
    "print(cartesian)"
   ]
  },
  {
   "cell_type": "markdown",
   "id": "c163f115",
   "metadata": {},
   "source": [
    "### 17. Considérez un grand vecteur Z2, calculez Z2 à la puissance 5 en utilisant 3 méthodes différentes."
   ]
  },
  {
   "cell_type": "code",
   "execution_count": 31,
   "id": "da402514",
   "metadata": {},
   "outputs": [
    {
     "name": "stdout",
     "output_type": "stream",
     "text": [
      "[   1   32  243 1024 3125] [   1   32  243 1024 3125] [1.000e+00 3.200e+01 2.430e+02 1.024e+03 3.125e+03]\n"
     ]
    }
   ],
   "source": [
    "Z2 = np.arange(1, 6)\n",
    "method1 = Z2 ** 5\n",
    "method2 = np.power(Z2, 5)\n",
    "method3 = np.exp(5 * np.log(Z2))\n",
    "print(method1, method2, method3)"
   ]
  },
  {
   "cell_type": "markdown",
   "id": "049c006e",
   "metadata": {},
   "source": [
    "### 18. En considérant une matrice de taille 10x3, extraire les lignes contenant des valeurs différentes (par exemple : [2, 2, 3])"
   ]
  },
  {
   "cell_type": "code",
   "execution_count": 32,
   "id": "96ce278a",
   "metadata": {},
   "outputs": [
    {
     "name": "stdout",
     "output_type": "stream",
     "text": [
      "[[0 0 1]\n",
      " [2 4 4]\n",
      " [1 4 2]\n",
      " [3 4 1]\n",
      " [4 4 1]\n",
      " [0 0 2]\n",
      " [2 3 3]\n",
      " [4 0 3]\n",
      " [2 1 2]\n",
      " [4 4 3]]\n"
     ]
    }
   ],
   "source": [
    "mat = np.random.randint(0, 5, size=(10, 3))\n",
    "unique_rows = mat[np.any(mat != mat[:, [0]], axis=1)]\n",
    "print(unique_rows)"
   ]
  },
  {
   "cell_type": "markdown",
   "id": "c9fe158d",
   "metadata": {},
   "source": [
    "### 19. Créez un tableau de dimension 12 contenant uniquement des 0 et 1 puis afficher les lignes uniques les lignes uniques"
   ]
  },
  {
   "cell_type": "code",
   "execution_count": 33,
   "id": "74b6cf0538af7ed1",
   "metadata": {},
   "outputs": [
    {
     "name": "stdout",
     "output_type": "stream",
     "text": [
      "[[0 0 0 1 1]\n",
      " [0 0 1 1 0]\n",
      " [0 1 0 0 0]\n",
      " [0 1 0 1 1]\n",
      " [0 1 1 1 0]\n",
      " [1 0 0 1 0]\n",
      " [1 0 0 1 1]\n",
      " [1 1 0 0 1]\n",
      " [1 1 0 1 0]\n",
      " [1 1 1 1 0]]\n"
     ]
    }
   ],
   "source": [
    "bin_array = np.random.randint(0, 2, size=(12, 5))\n",
    "unique_rows = np.unique(bin_array, axis=0)\n",
    "print(unique_rows)"
   ]
  },
  {
   "cell_type": "markdown",
   "id": "a0968f6bcf3c7185",
   "metadata": {},
   "source": [
    "### 20. Créez deux tableaux de dimension 12*8 et 8*6 puis effectuez leur produit matriciel"
   ]
  },
  {
   "cell_type": "code",
   "execution_count": 34,
   "id": "2af86ae5f1f4665d",
   "metadata": {},
   "outputs": [
    {
     "name": "stdout",
     "output_type": "stream",
     "text": [
      "[[ 99 162  96 140 158  76]\n",
      " [145 213 110 143 188 153]\n",
      " [126 197  92 176 175 148]\n",
      " [183 215 142 143 240 168]\n",
      " [105 125 111  98 159 113]\n",
      " [ 90 118  52  70 124  91]\n",
      " [135 163 125 170 208 161]\n",
      " [103 157  94 104 165  93]\n",
      " [ 98 125  77  90 148  97]\n",
      " [158 178 133 215 226 178]\n",
      " [115 151 119 162 189 131]\n",
      " [104 149  83 145 137  99]]\n"
     ]
    }
   ],
   "source": [
    "A = np.random.randint(0, 10, size=(12, 8))\n",
    "B = np.random.randint(0, 10, size=(8, 6))\n",
    "C = A @ B\n",
    "print(C)"
   ]
  }
 ],
 "metadata": {
  "kernelspec": {
   "display_name": "datascience",
   "language": "python",
   "name": "python3"
  },
  "language_info": {
   "codemirror_mode": {
    "name": "ipython",
    "version": 3
   },
   "file_extension": ".py",
   "mimetype": "text/x-python",
   "name": "python",
   "nbconvert_exporter": "python",
   "pygments_lexer": "ipython3",
   "version": "3.9.21"
  }
 },
 "nbformat": 4,
 "nbformat_minor": 5
}
