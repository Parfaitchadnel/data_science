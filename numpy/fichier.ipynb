{
 "cells": [
  {
   "cell_type": "code",
   "execution_count": null,
   "id": "b7b5402f",
   "metadata": {},
   "outputs": [],
   "source": [
    "\n",
    "import fitz  # PyMuPDF\n",
    "from PIL import Image\n",
    "from IPython.display import display\n",
    "import os\n"
   ]
  },
  {
   "cell_type": "code",
   "execution_count": null,
   "id": "1ed9845e",
   "metadata": {},
   "outputs": [],
   "source": [
    "\n",
    "# Charger le fichier PDF\n",
    "pdf_path = \"fichier1.pdf\"\n",
    "doc = fitz.open(pdf_path)\n",
    "\n",
    "# Extraire les images\n",
    "images = []\n",
    "for page_number in range(len(doc)):\n",
    "    page = doc[page_number]\n",
    "    images.extend(page.get_images(full=True))\n",
    "\n",
    "# Enregistrer les images extraites\n",
    "image_paths = []\n",
    "for i, img in enumerate(images):\n",
    "    xref = img[0]\n",
    "    base_image = doc.extract_image(xref)\n",
    "    image_bytes = base_image[\"image\"]\n",
    "    image_ext = base_image[\"ext\"]\n",
    "    image_path = f\"graphique_{i + 1}.{image_ext}\"\n",
    "    with open(image_path, \"wb\") as f:\n",
    "        f.write(image_bytes)\n",
    "    image_paths.append(image_path)\n",
    "\n",
    "# Afficher les images extraites\n",
    "for path in image_paths:\n",
    "    display(Image.open(path))\n"
   ]
  },
  {
   "cell_type": "code",
   "execution_count": null,
   "id": "619473a5",
   "metadata": {},
   "outputs": [],
   "source": [
    "\n",
    "import pandas as pd\n",
    "\n",
    "# Données extraites des figures et tableau du PDF (saisie manuelle basée sur le texte visible)\n",
    "data = {\n",
    "    \"Groupe\": [\"Contrôle\", \"Digestarom® P.E.P.\"],\n",
    "    \"Poids final (kg)\": [2135, 2210],\n",
    "    \"FCR\": [None, None],  # Valeurs approximatives visuelles\n",
    "    \"E.coli (log10)\": [None, None],\n",
    "    \"Lactobacilles (log10)\": [None, None],\n",
    "    \"Bifidobactéries (log10)\": [None, None],\n",
    "    \"Production Efficiency Factor\": [None, None],\n",
    "    \"Revenu (€)\": [3202.5, 3315],\n",
    "    \"Coût alimentation (€)\": [1561.8, 1596.1],\n",
    "    \"Marge brute (€)\": [1640.7, 1718.9],\n",
    "    \"ROI\": [0.0, 6.2]\n",
    "}\n",
    "\n",
    "df = pd.DataFrame(data)\n",
    "df\n"
   ]
  }
 ],
 "metadata": {},
 "nbformat": 4,
 "nbformat_minor": 5
}
