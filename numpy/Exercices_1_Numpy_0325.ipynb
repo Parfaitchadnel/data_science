{
 "cells": [
  {
   "cell_type": "markdown",
   "id": "9a35fc6ba7c718d0",
   "metadata": {},
   "source": [
    "# Consigne: Complétez les cellules de code puis exécutez-les"
   ]
  },
  {
   "cell_type": "markdown",
   "id": "dcc6b1ac",
   "metadata": {},
   "source": [
    "#### 1. Importez le package numpy sous l'alias np"
   ]
  },
  {
   "cell_type": "code",
   "execution_count": 16,
   "id": "6c52078e",
   "metadata": {},
   "outputs": [],
   "source": [
    "import numpy as np"
   ]
  },
  {
   "cell_type": "markdown",
   "id": "118ded29",
   "metadata": {},
   "source": [
    "#### 2. Affichez la version de numpy"
   ]
  },
  {
   "cell_type": "code",
   "execution_count": 17,
   "id": "023a2c52",
   "metadata": {},
   "outputs": [
    {
     "name": "stdout",
     "output_type": "stream",
     "text": [
      "Version numpy : 2.2.3\n"
     ]
    }
   ],
   "source": [
    "print('Version numpy :',np.__version__)"
   ]
  },
  {
   "cell_type": "markdown",
   "id": "172b913a",
   "metadata": {},
   "source": [
    "#### 3. Créez un vecteur nul y de taille 10"
   ]
  },
  {
   "cell_type": "code",
   "execution_count": 18,
   "id": "df54025a",
   "metadata": {},
   "outputs": [
    {
     "name": "stdout",
     "output_type": "stream",
     "text": [
      "y =  [0. 0. 0. 0. 0. 0. 0. 0. 0. 0.]\n"
     ]
    }
   ],
   "source": [
    "y=np.zeros(10)\n",
    "print('y = ',y)"
   ]
  },
  {
   "cell_type": "markdown",
   "id": "95ee9e07",
   "metadata": {},
   "source": [
    "#### 4. Affichez la taille mémoire du vecteur y"
   ]
  },
  {
   "cell_type": "code",
   "execution_count": 19,
   "id": "5c5b0950",
   "metadata": {},
   "outputs": [
    {
     "name": "stdout",
     "output_type": "stream",
     "text": [
      "taille memoire y =  80\n"
     ]
    }
   ],
   "source": [
    "print('taille memoire y = ',y.itemsize*y.size)"
   ]
  },
  {
   "cell_type": "markdown",
   "id": "674e8019",
   "metadata": {},
   "source": [
    "#### 6. Créez un vecteur nul y1 de taille 25 sauf la quainzième valeur qui est 15"
   ]
  },
  {
   "cell_type": "code",
   "execution_count": 20,
   "id": "452df2a7",
   "metadata": {},
   "outputs": [
    {
     "name": "stdout",
     "output_type": "stream",
     "text": [
      "y1 =  [ 0.  0.  0.  0.  0.  0.  0.  0.  0.  0.  0.  0.  0.  0. 15.  0.  0.  0.\n",
      "  0.  0.  0.  0.  0.  0.  0.]\n"
     ]
    }
   ],
   "source": [
    "y1=np.zeros(25)\n",
    "y1[14]=15\n",
    "print('y1 = ',y1)"
   ]
  },
  {
   "cell_type": "markdown",
   "id": "7685e337",
   "metadata": {},
   "source": [
    "#### 7. Créez un vecteur z avec des valeurs allant de 2006 à 2025"
   ]
  },
  {
   "cell_type": "code",
   "execution_count": 21,
   "id": "10847d11",
   "metadata": {},
   "outputs": [
    {
     "name": "stdout",
     "output_type": "stream",
     "text": [
      "z =  [2006 2007 2008 2009 2010 2011 2012 2013 2014 2015 2016 2017 2018 2019\n",
      " 2020 2021 2022 2023 2024 2025]\n"
     ]
    }
   ],
   "source": [
    "z=np.arange(2006,2026)\n",
    "print('z = ',z)"
   ]
  },
  {
   "cell_type": "markdown",
   "id": "54c913ba",
   "metadata": {},
   "source": [
    "#### 8. Inversez le  vecteur z"
   ]
  },
  {
   "cell_type": "code",
   "execution_count": 22,
   "id": "34722e83",
   "metadata": {},
   "outputs": [
    {
     "name": "stdout",
     "output_type": "stream",
     "text": [
      "z_inv =  [2025 2024 2023 2022 2021 2020 2019 2018 2017 2016 2015 2014 2013 2012\n",
      " 2011 2010 2009 2008 2007 2006]\n"
     ]
    }
   ],
   "source": [
    "z_inv=z[::-1]\n",
    "print('z_inv = ',z_inv)"
   ]
  },
  {
   "cell_type": "markdown",
   "id": "8e72fd08",
   "metadata": {},
   "source": [
    "#### 9. Créez une matrice m1 3x3 avec des valeurs pairs comprise entre 5 et 25"
   ]
  },
  {
   "cell_type": "code",
   "execution_count": 24,
   "id": "e18eef56",
   "metadata": {},
   "outputs": [
    {
     "name": "stdout",
     "output_type": "stream",
     "text": [
      "m1 =  [ 6  8 10 12 14 16 18 20 22 24]\n"
     ]
    }
   ],
   "source": [
    "m1=np.arange(6, 25, 2)\n",
    "m2=m1[:9].reshape(3,3)\n",
    "print('m1 = ',m1)"
   ]
  },
  {
   "cell_type": "markdown",
   "id": "7cbca2cc",
   "metadata": {},
   "source": [
    "#### 10. Créez une matrix m2 10x10 avec des valeurs aléatoires et trouvez les valeurs minimales et maximales de m2"
   ]
  },
  {
   "cell_type": "code",
   "execution_count": 12,
   "id": "488413ca5cdd962f",
   "metadata": {},
   "outputs": [
    {
     "name": "stdout",
     "output_type": "stream",
     "text": [
      "m2 =  [[0.00337681 0.15768149 0.34170737 0.05147449 0.61178052 0.24207384\n",
      "  0.58526275 0.85818932 0.85951086 0.36817679]\n",
      " [0.87983492 0.47379322 0.66205578 0.31461265 0.26614454 0.93100672\n",
      "  0.72304283 0.80853729 0.16206234 0.97134178]\n",
      " [0.03774898 0.91742031 0.04910831 0.85883622 0.39167242 0.86373618\n",
      "  0.02077023 0.18245164 0.25254799 0.51538563]\n",
      " [0.03043034 0.1767124  0.00745639 0.87119632 0.29909942 0.3625143\n",
      "  0.33921936 0.7149821  0.95345853 0.59169166]\n",
      " [0.50316742 0.68186967 0.4754032  0.55882146 0.00683965 0.21949388\n",
      "  0.4062583  0.80512391 0.72322777 0.43110547]\n",
      " [0.72027007 0.47440646 0.07190644 0.27608193 0.0786479  0.02817669\n",
      "  0.95786675 0.83285172 0.52500442 0.43210788]\n",
      " [0.846951   0.5254072  0.41812699 0.84753362 0.59427971 0.15630947\n",
      "  0.91128526 0.45669027 0.82205901 0.38094691]\n",
      " [0.33700161 0.07503904 0.13353293 0.34162421 0.42130688 0.76977889\n",
      "  0.18818794 0.37072511 0.26452182 0.52251423]\n",
      " [0.86113363 0.21127382 0.96107858 0.11612036 0.40457152 0.22415827\n",
      "  0.70137498 0.31812868 0.32877848 0.65276984]\n",
      " [0.40869434 0.2787492  0.61058179 0.04598322 0.09326833 0.1528286\n",
      "  0.62938342 0.24409839 0.36145539 0.911756  ]]\n"
     ]
    }
   ],
   "source": [
    "m2=np.random.random((10,10))\n",
    "print('m2 = ',m2)"
   ]
  },
  {
   "cell_type": "markdown",
   "id": "4e25bc9375df7685",
   "metadata": {},
   "source": [
    "#### 11. Créez un vecteur aléatoire v1 de taille 30 et trouvez la valeur moyenne."
   ]
  },
  {
   "cell_type": "code",
   "execution_count": 15,
   "id": "e922a524",
   "metadata": {},
   "outputs": [
    {
     "name": "stdout",
     "output_type": "stream",
     "text": [
      "moyenne =  0.4525707171491584\n"
     ]
    }
   ],
   "source": [
    "v1=np.random.random(30)\n",
    "print('moyenne = ',v1.mean())"
   ]
  },
  {
   "cell_type": "markdown",
   "id": "29f06494e0c0774",
   "metadata": {},
   "source": [
    "### 12. Ajoutez une bordure (remplie de 0) autour d'un tableau existant."
   ]
  },
  {
   "cell_type": "code",
   "execution_count": 45,
   "id": "41e66e3e",
   "metadata": {},
   "outputs": [
    {
     "name": "stdout",
     "output_type": "stream",
     "text": [
      "tab =  [[1. 1. 1.]\n",
      " [1. 1. 1.]\n",
      " [1. 1. 1.]]\n",
      "border =  [[0. 0. 0. 0. 0.]\n",
      " [0. 1. 1. 1. 0.]\n",
      " [0. 1. 1. 1. 0.]\n",
      " [0. 1. 1. 1. 0.]\n",
      " [0. 0. 0. 0. 0.]]\n"
     ]
    }
   ],
   "source": [
    "tab=np.ones((3,3))\n",
    "border=np.pad(tab, pad_width=1, mode='constant', constant_values=0)\n",
    "print('tab = ',tab)\n",
    "print('border = ',border)"
   ]
  },
  {
   "cell_type": "markdown",
   "id": "7982b96c343ea7db",
   "metadata": {},
   "source": [
    "#### 13. Créez une matrice m3 5x5 avec les valeurs 1, 2, 3, 4 juste en dessous de la diagonale."
   ]
  },
  {
   "cell_type": "code",
   "execution_count": 25,
   "id": "15a21eadecf8b944",
   "metadata": {},
   "outputs": [
    {
     "name": "stdout",
     "output_type": "stream",
     "text": [
      "m3 =  [[0 0 0 0 0]\n",
      " [1 0 0 0 0]\n",
      " [0 2 0 0 0]\n",
      " [0 0 3 0 0]\n",
      " [0 0 0 4 0]]\n"
     ]
    }
   ],
   "source": [
    "m3=np.diag(1+np.arange(4),k=-1)\n",
    "print('m3 = ',m3)"
   ]
  },
  {
   "cell_type": "markdown",
   "id": "ccfd7fbe86f60987",
   "metadata": {},
   "source": [
    "#### 14. Créez une matrice m4 8x8 et remplissez-la avec un motif en damier en utilisant la fonction tile.."
   ]
  },
  {
   "cell_type": "code",
   "execution_count": 27,
   "id": "26c263dfda9d7284",
   "metadata": {},
   "outputs": [
    {
     "name": "stdout",
     "output_type": "stream",
     "text": [
      "[[0 1 0 1 0 1 0 1]\n",
      " [1 0 1 0 1 0 1 0]\n",
      " [0 1 0 1 0 1 0 1]\n",
      " [1 0 1 0 1 0 1 0]\n",
      " [0 1 0 1 0 1 0 1]\n",
      " [1 0 1 0 1 0 1 0]\n",
      " [0 1 0 1 0 1 0 1]\n",
      " [1 0 1 0 1 0 1 0]]\n"
     ]
    }
   ],
   "source": [
    "m4 = np.zeros((8, 8), dtype=int)\n",
    "m4[1::2, ::2] = 1\n",
    "m4[::2, 1::2] = 1\n",
    "print(m4)"
   ]
  },
  {
   "cell_type": "markdown",
   "id": "9b78e557d864a00a",
   "metadata": {},
   "source": [
    "#### 15. Considérez un tableau de forme (6,7,8), quel est l'indice (x, y, z) du 100e élément ?"
   ]
  },
  {
   "cell_type": "code",
   "execution_count": 31,
   "id": "d646b6799c5d328",
   "metadata": {},
   "outputs": [
    {
     "name": "stdout",
     "output_type": "stream",
     "text": [
      "Indice du 100e: (np.int64(1), np.int64(5), np.int64(3))\n"
     ]
    }
   ],
   "source": [
    "print(\"Indice du 100e:\", np.unravel_index(99, (6, 7, 8)))"
   ]
  },
  {
   "cell_type": "markdown",
   "id": "ae5ab196d81ed181",
   "metadata": {},
   "source": [
    "#### 16. Normalisez une matrice aléatoire m5 de taille  5x5."
   ]
  },
  {
   "cell_type": "code",
   "execution_count": 32,
   "id": "6986942d8e4fd864",
   "metadata": {},
   "outputs": [
    {
     "name": "stdout",
     "output_type": "stream",
     "text": [
      "[[0.33091328 0.95994855 0.41613365 0.         0.81673498]\n",
      " [0.45679696 0.99530508 0.72716429 0.43558517 0.7082858 ]\n",
      " [0.23638018 0.1668926  0.63505183 0.74382039 0.29268351]\n",
      " [0.37944023 0.76519617 1.         0.40075535 0.64760681]\n",
      " [0.14842856 0.0442976  0.67537662 0.25144392 0.84387959]]\n"
     ]
    }
   ],
   "source": [
    "m5 = np.random.rand(5, 5)\n",
    "m5_normalise = (m5 - m5.min()) / (m5.max() - m5.min())\n",
    "print(m5_normalise)"
   ]
  },
  {
   "cell_type": "markdown",
   "id": "3f34bd2a",
   "metadata": {},
   "source": [
    "#### 17. Multipliez une matrice 5x3 par une matrice 3x2 (produit matriciel réel)."
   ]
  },
  {
   "cell_type": "code",
   "execution_count": 26,
   "id": "686098b64da0e62b",
   "metadata": {},
   "outputs": [
    {
     "name": "stdout",
     "output_type": "stream",
     "text": [
      "ma1*ma2 =   [[0.4625017  0.40376548]\n",
      " [1.14268371 0.9762965 ]\n",
      " [1.27966834 1.09331686]\n",
      " [0.99523993 1.08097416]\n",
      " [2.02592313 1.53697069]]\n"
     ]
    }
   ],
   "source": [
    "ma1=np.random.random((5,3))\n",
    "ma2=np.random.random((3,2))\n",
    "print('ma1*ma2 =  ',np.dot(ma1,ma2))"
   ]
  },
  {
   "cell_type": "markdown",
   "id": "c292612e24ef51dd",
   "metadata": {},
   "source": [
    "#### 16 Comment obtenir toutes les dates correspondant au mois de Mars 2025 ?"
   ]
  },
  {
   "cell_type": "code",
   "execution_count": 33,
   "id": "4c53e8f373b97981",
   "metadata": {},
   "outputs": [
    {
     "name": "stdout",
     "output_type": "stream",
     "text": [
      "['2025-03-01' '2025-03-02' '2025-03-03' '2025-03-04' '2025-03-05'\n",
      " '2025-03-06' '2025-03-07' '2025-03-08' '2025-03-09' '2025-03-10'\n",
      " '2025-03-11' '2025-03-12' '2025-03-13' '2025-03-14' '2025-03-15'\n",
      " '2025-03-16' '2025-03-17' '2025-03-18' '2025-03-19' '2025-03-20'\n",
      " '2025-03-21' '2025-03-22' '2025-03-23' '2025-03-24' '2025-03-25'\n",
      " '2025-03-26' '2025-03-27' '2025-03-28' '2025-03-29' '2025-03-30'\n",
      " '2025-03-31']\n"
     ]
    }
   ],
   "source": [
    "dates_march_2025 = np.arange('2025-03', '2025-04', dtype='datetime64[D]')\n",
    "print(dates_march_2025)"
   ]
  },
  {
   "cell_type": "markdown",
   "id": "22f0bb1b0f37010",
   "metadata": {},
   "source": [
    "#### 17. Créez un vecteur v2 de taille 10 avec des valeurs allant de 0 à 1, excluant les deux extrémités."
   ]
  },
  {
   "cell_type": "code",
   "execution_count": 34,
   "id": "f6aefd94",
   "metadata": {},
   "outputs": [
    {
     "name": "stdout",
     "output_type": "stream",
     "text": [
      "[0.09090909 0.18181818 0.27272727 0.36363636 0.45454545 0.54545455\n",
      " 0.63636364 0.72727273 0.81818182 0.90909091]\n"
     ]
    }
   ],
   "source": [
    "v2 = np.linspace(0, 1, 12, )[1:-1]\n",
    "print(v2)"
   ]
  },
  {
   "cell_type": "markdown",
   "id": "b7f03449",
   "metadata": {},
   "source": [
    " #### 18. Triez le vecteur V2."
   ]
  },
  {
   "cell_type": "code",
   "execution_count": 44,
   "id": "a27cd904",
   "metadata": {},
   "outputs": [
    {
     "name": "stdout",
     "output_type": "stream",
     "text": [
      "[0.09090909 0.18181818 0.27272727 0.36363636 0.45454545 0.54545455\n",
      " 0.63636364 0.72727273 0.81818182 0.90909091]\n"
     ]
    }
   ],
   "source": [
    "v2_sort = np.sort(v2)\n",
    "print(v2_sort)"
   ]
  },
  {
   "cell_type": "markdown",
   "id": "4f7e8f3f",
   "metadata": {},
   "source": [
    "#### 19. Creer deux tableaux aléatoires A et B, de meme taille, vérifiez s'ils sont égaux ?"
   ]
  },
  {
   "cell_type": "code",
   "execution_count": 36,
   "id": "88790af3",
   "metadata": {},
   "outputs": [
    {
     "name": "stdout",
     "output_type": "stream",
     "text": [
      "False\n"
     ]
    }
   ],
   "source": [
    "A = np.random.random(5)\n",
    "B = np.random.random(5)\n",
    "print(np.array_equal(A, B))"
   ]
  },
  {
   "cell_type": "markdown",
   "id": "37b0828f",
   "metadata": {},
   "source": [
    "#### 20. Créez un vecteur v3 aléatoire de taille 10 et remplacez la valeur maximale par 0."
   ]
  },
  {
   "cell_type": "code",
   "execution_count": null,
   "id": "a89969af",
   "metadata": {},
   "outputs": [],
   "source": [
    "V3 = np.random.random(10)\n",
    "V3[V3.argmax()] = 0\n",
    "print(V3)"
   ]
  },
  {
   "cell_type": "markdown",
   "id": "13462c49a66329a7",
   "metadata": {},
   "source": [
    "#### 21. Creez un tablequ w Affichez toutes les valeurs du tableau."
   ]
  },
  {
   "cell_type": "code",
   "execution_count": 37,
   "id": "3a40b2cb9e1665",
   "metadata": {},
   "outputs": [
    {
     "name": "stdout",
     "output_type": "stream",
     "text": [
      "[[0.37010738 0.34261654]\n",
      " [0.70720413 0.72478448]\n",
      " [0.4379412  0.00466089]\n",
      " [0.73570978 0.55737339]\n",
      " [0.84221932 0.20340852]\n",
      " [0.03459643 0.0663042 ]\n",
      " [0.69546767 0.42855779]\n",
      " [0.44869476 0.32897774]\n",
      " [0.69619439 0.92133508]\n",
      " [0.71119242 0.29675687]]\n"
     ]
    }
   ],
   "source": [
    "W=np.random.random((10,2))\n",
    "print(W)"
   ]
  },
  {
   "cell_type": "markdown",
   "id": "4096ce52331c923",
   "metadata": {},
   "source": [
    "#### 22. Trouvez la valeur la plus proche 5 dans le vecteur v2."
   ]
  },
  {
   "cell_type": "code",
   "execution_count": 38,
   "id": "72edbc57cd93d45f",
   "metadata": {},
   "outputs": [
    {
     "name": "stdout",
     "output_type": "stream",
     "text": [
      "Valeur la plus proche de 5 dans v2 : 0.9090909090909092\n"
     ]
    }
   ],
   "source": [
    "valeur_cible = 5\n",
    "plus_proche = v2[np.abs(v2 - valeur_cible).argmin()]\n",
    "print(\"Valeur la plus proche de 5 dans v2 :\", plus_proche)"
   ]
  },
  {
   "cell_type": "markdown",
   "id": "20d2a462",
   "metadata": {},
   "source": [
    "#### 23. Comment Vérifiez si un tableau 2D donné contient des colonnes nulles."
   ]
  },
  {
   "cell_type": "code",
   "execution_count": null,
   "id": "75e9d061fac97dc1",
   "metadata": {},
   "outputs": [
    {
     "name": "stdout",
     "output_type": "stream",
     "text": [
      "[[0.26779231 0.52481272 0.55952278]\n",
      " [0.82014418 0.99515421 0.64263669]\n",
      " [0.07789181 0.56792815 0.25065881]]\n",
      "False\n"
     ]
    }
   ],
   "source": [
    "arr = np.random.random((3, 3))\n",
    "print(np.any(np.all(arr== 0, axis = 0)))"
   ]
  },
  {
   "cell_type": "markdown",
   "id": "658739aea4a97c82",
   "metadata": {},
   "source": [
    "### 24. Créez une matrice z de taille 12\\*3 remplie uniquement de 1"
   ]
  },
  {
   "cell_type": "code",
   "execution_count": 39,
   "id": "9fedf2f21bc44ea9",
   "metadata": {},
   "outputs": [
    {
     "name": "stdout",
     "output_type": "stream",
     "text": [
      "[[1. 1. 1.]\n",
      " [1. 1. 1.]\n",
      " [1. 1. 1.]\n",
      " [1. 1. 1.]\n",
      " [1. 1. 1.]\n",
      " [1. 1. 1.]\n",
      " [1. 1. 1.]\n",
      " [1. 1. 1.]\n",
      " [1. 1. 1.]\n",
      " [1. 1. 1.]\n",
      " [1. 1. 1.]\n",
      " [1. 1. 1.]]\n"
     ]
    }
   ],
   "source": [
    "z = np.ones((12,3))\n",
    "print(z)\n"
   ]
  },
  {
   "cell_type": "markdown",
   "id": "c4a864a37396dba2",
   "metadata": {},
   "source": [
    "### 25. Inversez z"
   ]
  },
  {
   "cell_type": "code",
   "execution_count": 40,
   "id": "233c0b8a169ebda9",
   "metadata": {},
   "outputs": [
    {
     "name": "stdout",
     "output_type": "stream",
     "text": [
      "z_inv =  [[1. 1. 1.]\n",
      " [1. 1. 1.]\n",
      " [1. 1. 1.]\n",
      " [1. 1. 1.]\n",
      " [1. 1. 1.]\n",
      " [1. 1. 1.]\n",
      " [1. 1. 1.]\n",
      " [1. 1. 1.]\n",
      " [1. 1. 1.]\n",
      " [1. 1. 1.]\n",
      " [1. 1. 1.]\n",
      " [1. 1. 1.]]\n"
     ]
    }
   ],
   "source": [
    "z_inv=z[::-1]\n",
    "print('z_inv = ',z_inv)"
   ]
  }
 ],
 "metadata": {
  "kernelspec": {
   "display_name": "env",
   "language": "python",
   "name": "python3"
  },
  "language_info": {
   "codemirror_mode": {
    "name": "ipython",
    "version": 3
   },
   "file_extension": ".py",
   "mimetype": "text/x-python",
   "name": "python",
   "nbconvert_exporter": "python",
   "pygments_lexer": "ipython3",
   "version": "3.12.1"
  }
 },
 "nbformat": 4,
 "nbformat_minor": 5
}
