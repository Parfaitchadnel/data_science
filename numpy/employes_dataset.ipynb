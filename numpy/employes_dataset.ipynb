{
 "cells": [
  {
   "cell_type": "code",
   "execution_count": 4,
   "metadata": {},
   "outputs": [],
   "source": [
    "import pandas as pd\n",
    "import numpy as np\n",
    "\n",
    "df = pd.read_excel(\"employes_dataset.xlsx\")  "
   ]
  },
  {
   "cell_type": "code",
   "execution_count": 5,
   "metadata": {},
   "outputs": [
    {
     "data": {
      "text/html": [
       "<div>\n",
       "<style scoped>\n",
       "    .dataframe tbody tr th:only-of-type {\n",
       "        vertical-align: middle;\n",
       "    }\n",
       "\n",
       "    .dataframe tbody tr th {\n",
       "        vertical-align: top;\n",
       "    }\n",
       "\n",
       "    .dataframe thead th {\n",
       "        text-align: right;\n",
       "    }\n",
       "</style>\n",
       "<table border=\"1\" class=\"dataframe\">\n",
       "  <thead>\n",
       "    <tr style=\"text-align: right;\">\n",
       "      <th></th>\n",
       "      <th>ID</th>\n",
       "      <th>Nom</th>\n",
       "      <th>Prénom</th>\n",
       "      <th>Âge</th>\n",
       "      <th>Sexe</th>\n",
       "      <th>Email</th>\n",
       "      <th>Pays</th>\n",
       "      <th>Ville</th>\n",
       "      <th>Salaire (€)</th>\n",
       "      <th>Date d'embauche</th>\n",
       "      <th>Département</th>\n",
       "      <th>Télétravail (%)</th>\n",
       "      <th>Performance (Note)</th>\n",
       "    </tr>\n",
       "  </thead>\n",
       "  <tbody>\n",
       "    <tr>\n",
       "      <th>0</th>\n",
       "      <td>1</td>\n",
       "      <td>Richard</td>\n",
       "      <td>Stacey</td>\n",
       "      <td>62</td>\n",
       "      <td>Homme</td>\n",
       "      <td>lgonzalez@crawford.org</td>\n",
       "      <td>Trinidad and Tobago</td>\n",
       "      <td>New Devinview</td>\n",
       "      <td>54564.0</td>\n",
       "      <td>2023-09-30</td>\n",
       "      <td>Finance</td>\n",
       "      <td>0.0</td>\n",
       "      <td>2.0</td>\n",
       "    </tr>\n",
       "    <tr>\n",
       "      <th>1</th>\n",
       "      <td>2</td>\n",
       "      <td>Chang</td>\n",
       "      <td>Loretta</td>\n",
       "      <td>65</td>\n",
       "      <td>Homme</td>\n",
       "      <td>rebeccabrown@hotmail.com</td>\n",
       "      <td>Netherlands</td>\n",
       "      <td>Lake Rebecca</td>\n",
       "      <td>23393.0</td>\n",
       "      <td>2023-10-14</td>\n",
       "      <td>Informatique</td>\n",
       "      <td>0.0</td>\n",
       "      <td>2.0</td>\n",
       "    </tr>\n",
       "    <tr>\n",
       "      <th>2</th>\n",
       "      <td>3</td>\n",
       "      <td>Fisher</td>\n",
       "      <td>Kimberly</td>\n",
       "      <td>18</td>\n",
       "      <td>Homme</td>\n",
       "      <td>waynebarnes@schultz-sims.org</td>\n",
       "      <td>Oman</td>\n",
       "      <td>Alexanderfort</td>\n",
       "      <td>62711.0</td>\n",
       "      <td>2017-08-24</td>\n",
       "      <td>Finance</td>\n",
       "      <td>60.0</td>\n",
       "      <td>1.0</td>\n",
       "    </tr>\n",
       "    <tr>\n",
       "      <th>3</th>\n",
       "      <td>4</td>\n",
       "      <td>Green</td>\n",
       "      <td>Julie</td>\n",
       "      <td>21</td>\n",
       "      <td>Homme</td>\n",
       "      <td>morgandevon@burgess.com</td>\n",
       "      <td>Moldova</td>\n",
       "      <td>Alexanderville</td>\n",
       "      <td>52274.0</td>\n",
       "      <td>2022-06-09</td>\n",
       "      <td>RH</td>\n",
       "      <td>100.0</td>\n",
       "      <td>1.0</td>\n",
       "    </tr>\n",
       "    <tr>\n",
       "      <th>4</th>\n",
       "      <td>5</td>\n",
       "      <td>Dixon</td>\n",
       "      <td>Jacob</td>\n",
       "      <td>21</td>\n",
       "      <td>Homme</td>\n",
       "      <td>elliskaren@gmail.com</td>\n",
       "      <td>Dominican Republic</td>\n",
       "      <td>East Darren</td>\n",
       "      <td>108305.0</td>\n",
       "      <td>2018-08-02</td>\n",
       "      <td>Informatique</td>\n",
       "      <td>0.0</td>\n",
       "      <td>3.0</td>\n",
       "    </tr>\n",
       "    <tr>\n",
       "      <th>5</th>\n",
       "      <td>6</td>\n",
       "      <td>Sullivan</td>\n",
       "      <td>Ana</td>\n",
       "      <td>57</td>\n",
       "      <td>Femme</td>\n",
       "      <td>afranklin@hotmail.com</td>\n",
       "      <td>Iceland</td>\n",
       "      <td>South Benjamin</td>\n",
       "      <td>33920.0</td>\n",
       "      <td>2019-05-26</td>\n",
       "      <td>RH</td>\n",
       "      <td>20.0</td>\n",
       "      <td>4.0</td>\n",
       "    </tr>\n",
       "    <tr>\n",
       "      <th>6</th>\n",
       "      <td>7</td>\n",
       "      <td>Bowers</td>\n",
       "      <td>Rodney</td>\n",
       "      <td>27</td>\n",
       "      <td>Femme</td>\n",
       "      <td>rmiranda@hess.com</td>\n",
       "      <td>Congo</td>\n",
       "      <td>Dawsonland</td>\n",
       "      <td>98086.0</td>\n",
       "      <td>2016-09-28</td>\n",
       "      <td>RH</td>\n",
       "      <td>20.0</td>\n",
       "      <td>4.0</td>\n",
       "    </tr>\n",
       "    <tr>\n",
       "      <th>7</th>\n",
       "      <td>8</td>\n",
       "      <td>Turner</td>\n",
       "      <td>Stephanie</td>\n",
       "      <td>37</td>\n",
       "      <td>Homme</td>\n",
       "      <td>uphillips@cohen.com</td>\n",
       "      <td>Palau</td>\n",
       "      <td>West Tiffany</td>\n",
       "      <td>25213.0</td>\n",
       "      <td>2024-06-07</td>\n",
       "      <td>Logistique</td>\n",
       "      <td>NaN</td>\n",
       "      <td>4.0</td>\n",
       "    </tr>\n",
       "    <tr>\n",
       "      <th>8</th>\n",
       "      <td>9</td>\n",
       "      <td>Woods</td>\n",
       "      <td>Glenn</td>\n",
       "      <td>39</td>\n",
       "      <td>Homme</td>\n",
       "      <td>reidwilliam@hotmail.com</td>\n",
       "      <td>Slovakia (Slovak Republic)</td>\n",
       "      <td>New Jessica</td>\n",
       "      <td>51914.0</td>\n",
       "      <td>2025-03-06</td>\n",
       "      <td>Production</td>\n",
       "      <td>40.0</td>\n",
       "      <td>1.0</td>\n",
       "    </tr>\n",
       "    <tr>\n",
       "      <th>9</th>\n",
       "      <td>10</td>\n",
       "      <td>Silva</td>\n",
       "      <td>Geoffrey</td>\n",
       "      <td>68</td>\n",
       "      <td>Homme</td>\n",
       "      <td>williamsalexis@beasley.biz</td>\n",
       "      <td>Hungary</td>\n",
       "      <td>Lake Rebecca</td>\n",
       "      <td>119041.0</td>\n",
       "      <td>2024-12-27</td>\n",
       "      <td>Finance</td>\n",
       "      <td>80.0</td>\n",
       "      <td>5.0</td>\n",
       "    </tr>\n",
       "  </tbody>\n",
       "</table>\n",
       "</div>"
      ],
      "text/plain": [
       "   ID       Nom     Prénom  Âge   Sexe                         Email  \\\n",
       "0   1   Richard     Stacey   62  Homme        lgonzalez@crawford.org   \n",
       "1   2     Chang    Loretta   65  Homme      rebeccabrown@hotmail.com   \n",
       "2   3    Fisher   Kimberly   18  Homme  waynebarnes@schultz-sims.org   \n",
       "3   4     Green      Julie   21  Homme       morgandevon@burgess.com   \n",
       "4   5     Dixon      Jacob   21  Homme          elliskaren@gmail.com   \n",
       "5   6  Sullivan        Ana   57  Femme         afranklin@hotmail.com   \n",
       "6   7    Bowers     Rodney   27  Femme             rmiranda@hess.com   \n",
       "7   8    Turner  Stephanie   37  Homme           uphillips@cohen.com   \n",
       "8   9     Woods      Glenn   39  Homme       reidwilliam@hotmail.com   \n",
       "9  10     Silva   Geoffrey   68  Homme    williamsalexis@beasley.biz   \n",
       "\n",
       "                         Pays           Ville  Salaire (€) Date d'embauche  \\\n",
       "0         Trinidad and Tobago   New Devinview      54564.0      2023-09-30   \n",
       "1                 Netherlands    Lake Rebecca      23393.0      2023-10-14   \n",
       "2                        Oman   Alexanderfort      62711.0      2017-08-24   \n",
       "3                     Moldova  Alexanderville      52274.0      2022-06-09   \n",
       "4          Dominican Republic     East Darren     108305.0      2018-08-02   \n",
       "5                     Iceland  South Benjamin      33920.0      2019-05-26   \n",
       "6                       Congo      Dawsonland      98086.0      2016-09-28   \n",
       "7                       Palau    West Tiffany      25213.0      2024-06-07   \n",
       "8  Slovakia (Slovak Republic)     New Jessica      51914.0      2025-03-06   \n",
       "9                     Hungary    Lake Rebecca     119041.0      2024-12-27   \n",
       "\n",
       "    Département  Télétravail (%)  Performance (Note)  \n",
       "0       Finance              0.0                 2.0  \n",
       "1  Informatique              0.0                 2.0  \n",
       "2       Finance             60.0                 1.0  \n",
       "3            RH            100.0                 1.0  \n",
       "4  Informatique              0.0                 3.0  \n",
       "5            RH             20.0                 4.0  \n",
       "6            RH             20.0                 4.0  \n",
       "7    Logistique              NaN                 4.0  \n",
       "8    Production             40.0                 1.0  \n",
       "9       Finance             80.0                 5.0  "
      ]
     },
     "metadata": {},
     "output_type": "display_data"
    }
   ],
   "source": [
    "\n",
    "display(df.head(10))"
   ]
  },
  {
   "cell_type": "code",
   "execution_count": 6,
   "metadata": {},
   "outputs": [
    {
     "name": "stdout",
     "output_type": "stream",
     "text": [
      "['ID', 'Nom', 'Prénom', 'Âge', 'Sexe', 'Email', 'Pays', 'Ville', 'Salaire (€)', \"Date d'embauche\", 'Département', 'Télétravail (%)', 'Performance (Note)']\n"
     ]
    }
   ],
   "source": [
    "\n",
    "print(df.columns.tolist())"
   ]
  },
  {
   "cell_type": "code",
   "execution_count": 7,
   "metadata": {},
   "outputs": [
    {
     "name": "stdout",
     "output_type": "stream",
     "text": [
      "Sexe\n",
      "Femme    513\n",
      "Homme    487\n",
      "Name: count, dtype: int64\n"
     ]
    }
   ],
   "source": [
    "\n",
    "\n",
    "print(df['Sexe'].value_counts())"
   ]
  },
  {
   "cell_type": "code",
   "execution_count": 8,
   "metadata": {},
   "outputs": [
    {
     "name": "stdout",
     "output_type": "stream",
     "text": [
      "Pays\n",
      "Congo          10\n",
      "Tajikistan     10\n",
      "Finland        10\n",
      "Madagascar     10\n",
      "New Zealand    10\n",
      "Name: count, dtype: int64\n"
     ]
    }
   ],
   "source": [
    "\n",
    "\n",
    "print(df['Pays'].value_counts().head(5))"
   ]
  },
  {
   "cell_type": "code",
   "execution_count": null,
   "metadata": {},
   "outputs": [
    {
     "name": "stdout",
     "output_type": "stream",
     "text": [
      "\n",
      "5. Statistiques sur les salaires (€) :\n",
      "- Moyenne : 69,101.74 €\n",
      "- Médiane : 69,518.50 €\n",
      "- Minimum : 18,107.00 €\n",
      "- Maximum : 119,836.00 €\n",
      "- Écart-type : 29,703.03 €\n"
     ]
    }
   ],
   "source": [
    "salaires = df['Salaire (€)'].dropna()\n",
    "print(\"\\n Statistiques sur les salaires (€) :\")\n",
    "print(f\"- Moyenne : {np.mean(salaires):,.2f} €\")\n",
    "print(f\"- Médiane : {np.median(salaires):,.2f} €\")\n",
    "print(f\"- Minimum : {np.min(salaires):,.2f} €\")\n",
    "print(f\"- Maximum : {np.max(salaires):,.2f} €\")\n",
    "print(f\"- Écart-type : {np.std(salaires):,.2f} €\")"
   ]
  },
  {
   "cell_type": "code",
   "execution_count": null,
   "metadata": {},
   "outputs": [
    {
     "name": "stdout",
     "output_type": "stream",
     "text": [
      "\n",
      " Statistiques sur les salaires :\n",
      "Département\n",
      "Finance         42.560694\n",
      "Informatique    43.681529\n",
      "Logistique      41.757764\n",
      "Marketing       43.187500\n",
      "Production      44.198795\n",
      "RH              44.131148\n",
      "Name: Âge, dtype: float64\n"
     ]
    }
   ],
   "source": [
    "print(\"\\n Âge moyen par département :\")\n",
    "print(df.groupby('Département')['Âge'].mean())"
   ]
  },
  {
   "cell_type": "code",
   "execution_count": 13,
   "metadata": {},
   "outputs": [
    {
     "name": "stdout",
     "output_type": "stream",
     "text": [
      "\n",
      " la ville ayant le plus grand nombre d’employés :\n",
      "Lake Daniel avec 2 employés \n"
     ]
    }
   ],
   "source": [
    "print(\"\\n la ville ayant le plus grand nombre d’employés :\")\n",
    "ville_plus_grand_employe=df['Ville'].value_counts().idxmax()\n",
    "new_ville_plus_grand_employe=df['Ville'].value_counts().max()\n",
    "print(f\"{ville_plus_grand_employe} avec {new_ville_plus_grand_employe} employés \")"
   ]
  },
  {
   "cell_type": "code",
   "execution_count": null,
   "metadata": {},
   "outputs": [
    {
     "name": "stdout",
     "output_type": "stream",
     "text": [
      " Générer un graphique montrant la distribution des âges.\n"
     ]
    }
   ],
   "source": [
    "print(\" Générer un graphique montrant la distribution des âges.\")\n",
    "import matplotlib.pyplot as plt\n",
    "import seaborn as sns\n",
    "plt.figure"
   ]
  },
  {
   "cell_type": "code",
   "execution_count": null,
   "metadata": {},
   "outputs": [],
   "source": [
    "#GIT DU PROF BeObm"
   ]
  }
 ],
 "metadata": {
  "kernelspec": {
   "display_name": "datascience",
   "language": "python",
   "name": "python3"
  },
  "language_info": {
   "codemirror_mode": {
    "name": "ipython",
    "version": 3
   },
   "file_extension": ".py",
   "mimetype": "text/x-python",
   "name": "python",
   "nbconvert_exporter": "python",
   "pygments_lexer": "ipython3",
   "version": "3.9.21"
  }
 },
 "nbformat": 4,
 "nbformat_minor": 2
}
