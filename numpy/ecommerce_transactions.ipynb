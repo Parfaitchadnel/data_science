{
 "cells": [
  {
   "cell_type": "code",
   "execution_count": 2,
   "metadata": {},
   "outputs": [],
   "source": [
    "import pandas as pd\n",
    "import numpy as np\n",
    "import matplotlib.pyplot as plt\n",
    "import seaborn as sns"
   ]
  },
  {
   "cell_type": "code",
   "execution_count": 3,
   "metadata": {},
   "outputs": [],
   "source": [
    "df = pd.read_excel(\"ecommerce_transactions.xlsx\")"
   ]
  },
  {
   "cell_type": "code",
   "execution_count": 4,
   "metadata": {},
   "outputs": [
    {
     "data": {
      "text/html": [
       "<div>\n",
       "<style scoped>\n",
       "    .dataframe tbody tr th:only-of-type {\n",
       "        vertical-align: middle;\n",
       "    }\n",
       "\n",
       "    .dataframe tbody tr th {\n",
       "        vertical-align: top;\n",
       "    }\n",
       "\n",
       "    .dataframe thead th {\n",
       "        text-align: right;\n",
       "    }\n",
       "</style>\n",
       "<table border=\"1\" class=\"dataframe\">\n",
       "  <thead>\n",
       "    <tr style=\"text-align: right;\">\n",
       "      <th></th>\n",
       "      <th>Transaction ID</th>\n",
       "      <th>Date</th>\n",
       "      <th>Client ID</th>\n",
       "      <th>Pays</th>\n",
       "      <th>Catégorie</th>\n",
       "      <th>Marque</th>\n",
       "      <th>Quantité</th>\n",
       "      <th>Prix unitaire (€)</th>\n",
       "      <th>Méthode de paiement</th>\n",
       "      <th>Note client</th>\n",
       "      <th>Montant total (€)</th>\n",
       "    </tr>\n",
       "  </thead>\n",
       "  <tbody>\n",
       "    <tr>\n",
       "      <th>0</th>\n",
       "      <td>b90c55bf-2a79-431c-bc11-c1b8e764f780</td>\n",
       "      <td>2024-03-27</td>\n",
       "      <td>2b9afa4c-e1ab-4d05-810c-e2342c26bffa</td>\n",
       "      <td>Gambia</td>\n",
       "      <td>Livres</td>\n",
       "      <td>accept</td>\n",
       "      <td>2</td>\n",
       "      <td>41.20</td>\n",
       "      <td>PayPal</td>\n",
       "      <td>4.0</td>\n",
       "      <td>82.40</td>\n",
       "    </tr>\n",
       "    <tr>\n",
       "      <th>1</th>\n",
       "      <td>d364d102-0604-4061-b0d2-aeb7d4495504</td>\n",
       "      <td>2024-05-31</td>\n",
       "      <td>91acae16-626a-4082-8879-fbe94b170368</td>\n",
       "      <td>Madagascar</td>\n",
       "      <td>Maison</td>\n",
       "      <td>quite</td>\n",
       "      <td>3</td>\n",
       "      <td>354.36</td>\n",
       "      <td>PayPal</td>\n",
       "      <td>3.0</td>\n",
       "      <td>1063.08</td>\n",
       "    </tr>\n",
       "    <tr>\n",
       "      <th>2</th>\n",
       "      <td>cfbcc1ff-8eb9-4349-bfee-c845793aec38</td>\n",
       "      <td>2025-01-02</td>\n",
       "      <td>009f5919-2d4f-4119-8a52-a624fe383028</td>\n",
       "      <td>Samoa</td>\n",
       "      <td>Vêtements</td>\n",
       "      <td>stock</td>\n",
       "      <td>5</td>\n",
       "      <td>449.46</td>\n",
       "      <td>Cryptomonnaie</td>\n",
       "      <td>2.0</td>\n",
       "      <td>2247.30</td>\n",
       "    </tr>\n",
       "    <tr>\n",
       "      <th>3</th>\n",
       "      <td>5fa27823-888d-42c4-b669-89339e2834fe</td>\n",
       "      <td>2024-08-01</td>\n",
       "      <td>2fb01dc7-37de-4c69-95ce-e3a4ee1e34b6</td>\n",
       "      <td>El Salvador</td>\n",
       "      <td>Électronique</td>\n",
       "      <td>garden</td>\n",
       "      <td>2</td>\n",
       "      <td>136.41</td>\n",
       "      <td>PayPal</td>\n",
       "      <td>3.0</td>\n",
       "      <td>272.82</td>\n",
       "    </tr>\n",
       "    <tr>\n",
       "      <th>4</th>\n",
       "      <td>ea5fe267-5877-4d3a-a8b5-a07a9659a673</td>\n",
       "      <td>2024-08-06</td>\n",
       "      <td>2e53eaca-a1d5-4eee-9819-3913d296bf01</td>\n",
       "      <td>Cyprus</td>\n",
       "      <td>Maison</td>\n",
       "      <td>song</td>\n",
       "      <td>4</td>\n",
       "      <td>155.17</td>\n",
       "      <td>Cryptomonnaie</td>\n",
       "      <td>2.0</td>\n",
       "      <td>620.68</td>\n",
       "    </tr>\n",
       "  </tbody>\n",
       "</table>\n",
       "</div>"
      ],
      "text/plain": [
       "                         Transaction ID       Date  \\\n",
       "0  b90c55bf-2a79-431c-bc11-c1b8e764f780 2024-03-27   \n",
       "1  d364d102-0604-4061-b0d2-aeb7d4495504 2024-05-31   \n",
       "2  cfbcc1ff-8eb9-4349-bfee-c845793aec38 2025-01-02   \n",
       "3  5fa27823-888d-42c4-b669-89339e2834fe 2024-08-01   \n",
       "4  ea5fe267-5877-4d3a-a8b5-a07a9659a673 2024-08-06   \n",
       "\n",
       "                              Client ID         Pays     Catégorie  Marque  \\\n",
       "0  2b9afa4c-e1ab-4d05-810c-e2342c26bffa       Gambia        Livres  accept   \n",
       "1  91acae16-626a-4082-8879-fbe94b170368   Madagascar        Maison   quite   \n",
       "2  009f5919-2d4f-4119-8a52-a624fe383028        Samoa     Vêtements   stock   \n",
       "3  2fb01dc7-37de-4c69-95ce-e3a4ee1e34b6  El Salvador  Électronique  garden   \n",
       "4  2e53eaca-a1d5-4eee-9819-3913d296bf01       Cyprus        Maison    song   \n",
       "\n",
       "   Quantité  Prix unitaire (€) Méthode de paiement  Note client  \\\n",
       "0         2              41.20              PayPal          4.0   \n",
       "1         3             354.36              PayPal          3.0   \n",
       "2         5             449.46       Cryptomonnaie          2.0   \n",
       "3         2             136.41              PayPal          3.0   \n",
       "4         4             155.17       Cryptomonnaie          2.0   \n",
       "\n",
       "   Montant total (€)  \n",
       "0              82.40  \n",
       "1            1063.08  \n",
       "2            2247.30  \n",
       "3             272.82  \n",
       "4             620.68  "
      ]
     },
     "metadata": {},
     "output_type": "display_data"
    }
   ],
   "source": [
    "# 1. Aperçu\n",
    "display(df.head())"
   ]
  },
  {
   "cell_type": "code",
   "execution_count": 5,
   "metadata": {},
   "outputs": [
    {
     "name": "stdout",
     "output_type": "stream",
     "text": [
      "(10000, 11)\n",
      "Transaction ID                 object\n",
      "Date                   datetime64[ns]\n",
      "Client ID                      object\n",
      "Pays                           object\n",
      "Catégorie                      object\n",
      "Marque                         object\n",
      "Quantité                        int64\n",
      "Prix unitaire (€)             float64\n",
      "Méthode de paiement            object\n",
      "Note client                   float64\n",
      "Montant total (€)             float64\n",
      "dtype: object\n"
     ]
    }
   ],
   "source": [
    "# 2. Dimensions\n",
    "print(df.shape)\n",
    "print(df.dtypes)"
   ]
  },
  {
   "cell_type": "code",
   "execution_count": 6,
   "metadata": {},
   "outputs": [
    {
     "name": "stdout",
     "output_type": "stream",
     "text": [
      "Transaction ID           0\n",
      "Date                     0\n",
      "Client ID                0\n",
      "Pays                     0\n",
      "Catégorie                0\n",
      "Marque                   0\n",
      "Quantité                 0\n",
      "Prix unitaire (€)        0\n",
      "Méthode de paiement      0\n",
      "Note client            486\n",
      "Montant total (€)        0\n",
      "dtype: int64\n"
     ]
    }
   ],
   "source": [
    "# 3. Valeurs manquantes\n",
    "print(df.isna().sum())"
   ]
  },
  {
   "cell_type": "code",
   "execution_count": 7,
   "metadata": {},
   "outputs": [],
   "source": [
    "# 4. Supprimer les doublons\n",
    "df = df.drop_duplicates()"
   ]
  },
  {
   "cell_type": "code",
   "execution_count": 8,
   "metadata": {},
   "outputs": [],
   "source": [
    "# 5. Ajouter colonne Année-Mois\n",
    "df['Date'] = pd.to_datetime(df['Date'])\n",
    "df['Année-Mois'] = df['Date'].dt.to_period('M')"
   ]
  },
  {
   "cell_type": "code",
   "execution_count": 9,
   "metadata": {},
   "outputs": [
    {
     "ename": "KeyError",
     "evalue": "'Column not found: Montant Total'",
     "output_type": "error",
     "traceback": [
      "\u001b[0;31m---------------------------------------------------------------------------\u001b[0m",
      "\u001b[0;31mKeyError\u001b[0m                                  Traceback (most recent call last)",
      "Cell \u001b[0;32mIn[9], line 2\u001b[0m\n\u001b[1;32m      1\u001b[0m \u001b[38;5;66;03m# 6. CA par pays (top 5)\u001b[39;00m\n\u001b[0;32m----> 2\u001b[0m \u001b[38;5;28mprint\u001b[39m(\u001b[43mdf\u001b[49m\u001b[38;5;241;43m.\u001b[39;49m\u001b[43mgroupby\u001b[49m\u001b[43m(\u001b[49m\u001b[38;5;124;43m'\u001b[39;49m\u001b[38;5;124;43mPays\u001b[39;49m\u001b[38;5;124;43m'\u001b[39;49m\u001b[43m)\u001b[49m\u001b[43m[\u001b[49m\u001b[38;5;124;43m'\u001b[39;49m\u001b[38;5;124;43mMontant Total\u001b[39;49m\u001b[38;5;124;43m'\u001b[39;49m\u001b[43m]\u001b[49m\u001b[38;5;241m.\u001b[39msum()\u001b[38;5;241m.\u001b[39msort_values(ascending\u001b[38;5;241m=\u001b[39m\u001b[38;5;28;01mFalse\u001b[39;00m)\u001b[38;5;241m.\u001b[39mhead(\u001b[38;5;241m5\u001b[39m))\n",
      "File \u001b[0;32m~/miniconda3/envs/datascience/lib/python3.9/site-packages/pandas/core/groupby/generic.py:1951\u001b[0m, in \u001b[0;36mDataFrameGroupBy.__getitem__\u001b[0;34m(self, key)\u001b[0m\n\u001b[1;32m   1944\u001b[0m \u001b[38;5;28;01mif\u001b[39;00m \u001b[38;5;28misinstance\u001b[39m(key, \u001b[38;5;28mtuple\u001b[39m) \u001b[38;5;129;01mand\u001b[39;00m \u001b[38;5;28mlen\u001b[39m(key) \u001b[38;5;241m>\u001b[39m \u001b[38;5;241m1\u001b[39m:\n\u001b[1;32m   1945\u001b[0m     \u001b[38;5;66;03m# if len == 1, then it becomes a SeriesGroupBy and this is actually\u001b[39;00m\n\u001b[1;32m   1946\u001b[0m     \u001b[38;5;66;03m# valid syntax, so don't raise\u001b[39;00m\n\u001b[1;32m   1947\u001b[0m     \u001b[38;5;28;01mraise\u001b[39;00m \u001b[38;5;167;01mValueError\u001b[39;00m(\n\u001b[1;32m   1948\u001b[0m         \u001b[38;5;124m\"\u001b[39m\u001b[38;5;124mCannot subset columns with a tuple with more than one element. \u001b[39m\u001b[38;5;124m\"\u001b[39m\n\u001b[1;32m   1949\u001b[0m         \u001b[38;5;124m\"\u001b[39m\u001b[38;5;124mUse a list instead.\u001b[39m\u001b[38;5;124m\"\u001b[39m\n\u001b[1;32m   1950\u001b[0m     )\n\u001b[0;32m-> 1951\u001b[0m \u001b[38;5;28;01mreturn\u001b[39;00m \u001b[38;5;28;43msuper\u001b[39;49m\u001b[43m(\u001b[49m\u001b[43m)\u001b[49m\u001b[38;5;241;43m.\u001b[39;49m\u001b[38;5;21;43m__getitem__\u001b[39;49m\u001b[43m(\u001b[49m\u001b[43mkey\u001b[49m\u001b[43m)\u001b[49m\n",
      "File \u001b[0;32m~/miniconda3/envs/datascience/lib/python3.9/site-packages/pandas/core/base.py:244\u001b[0m, in \u001b[0;36mSelectionMixin.__getitem__\u001b[0;34m(self, key)\u001b[0m\n\u001b[1;32m    242\u001b[0m \u001b[38;5;28;01melse\u001b[39;00m:\n\u001b[1;32m    243\u001b[0m     \u001b[38;5;28;01mif\u001b[39;00m key \u001b[38;5;129;01mnot\u001b[39;00m \u001b[38;5;129;01min\u001b[39;00m \u001b[38;5;28mself\u001b[39m\u001b[38;5;241m.\u001b[39mobj:\n\u001b[0;32m--> 244\u001b[0m         \u001b[38;5;28;01mraise\u001b[39;00m \u001b[38;5;167;01mKeyError\u001b[39;00m(\u001b[38;5;124mf\u001b[39m\u001b[38;5;124m\"\u001b[39m\u001b[38;5;124mColumn not found: \u001b[39m\u001b[38;5;132;01m{\u001b[39;00mkey\u001b[38;5;132;01m}\u001b[39;00m\u001b[38;5;124m\"\u001b[39m)\n\u001b[1;32m    245\u001b[0m     ndim \u001b[38;5;241m=\u001b[39m \u001b[38;5;28mself\u001b[39m\u001b[38;5;241m.\u001b[39mobj[key]\u001b[38;5;241m.\u001b[39mndim\n\u001b[1;32m    246\u001b[0m     \u001b[38;5;28;01mreturn\u001b[39;00m \u001b[38;5;28mself\u001b[39m\u001b[38;5;241m.\u001b[39m_gotitem(key, ndim\u001b[38;5;241m=\u001b[39mndim)\n",
      "\u001b[0;31mKeyError\u001b[0m: 'Column not found: Montant Total'"
     ]
    }
   ],
   "source": [
    "# 6. CA par pays (top 5)\n",
    "print(df.groupby('Pays')['Montant Total'].sum().sort_values(ascending=False).head(5))"
   ]
  }
 ],
 "metadata": {
  "kernelspec": {
   "display_name": "datascience",
   "language": "python",
   "name": "python3"
  },
  "language_info": {
   "codemirror_mode": {
    "name": "ipython",
    "version": 3
   },
   "file_extension": ".py",
   "mimetype": "text/x-python",
   "name": "python",
   "nbconvert_exporter": "python",
   "pygments_lexer": "ipython3",
   "version": "3.9.21"
  }
 },
 "nbformat": 4,
 "nbformat_minor": 2
}
