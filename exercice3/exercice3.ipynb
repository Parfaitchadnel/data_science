{
 "cells": [
  {
   "cell_type": "code",
   "execution_count": null,
   "metadata": {},
   "outputs": [],
   "source": [
    "#1 importons les bibliothèques nécessaires: sqlite3 et pandas\n",
    "import sqlite3\n",
    "import pandas as pd\n",
    "from tabulate import tabulate "
   ]
  },
  {
   "cell_type": "code",
   "execution_count": null,
   "metadata": {},
   "outputs": [],
   "source": [
    "#2 Connexion à la base de données nommée 'database.db'\n",
    "conn = sqlite3.connect(\"database.db\")\n",
    "cursor = conn.cursor()"
   ]
  },
  {
   "cell_type": "code",
   "execution_count": 28,
   "metadata": {},
   "outputs": [],
   "source": [
    "#3 Requête pour récupérer les informations sur les clients\n",
    "query = \"SELECT * FROM clients;\""
   ]
  },
  {
   "cell_type": "code",
   "execution_count": 29,
   "metadata": {},
   "outputs": [],
   "source": [
    "#4 Chargeons les requêtes dans un DataFrame pandas\n",
    "df = pd.read_sql_query(query, conn)"
   ]
  },
  {
   "cell_type": "code",
   "execution_count": 33,
   "metadata": {},
   "outputs": [
    {
     "name": "stdout",
     "output_type": "stream",
     "text": [
      "╒════╤══════╤════════════╤══════════╤═══════════════════════════╤═════════╕\n",
      "│    │   id │ nom        │ prenom   │ email                     │ pays    │\n",
      "╞════╪══════╪════════════╪══════════╪═══════════════════════════╪═════════╡\n",
      "│  0 │    1 │ Fadonougbo │ Parfait  │ parfait@example.com       │ Bénin   │\n",
      "├────┼──────┼────────────┼──────────┼───────────────────────────┼─────────┤\n",
      "│  1 │    2 │ AGOSSOU    │ Léon     │ leonagos@example.com      │ USA     │\n",
      "├────┼──────┼────────────┼──────────┼───────────────────────────┼─────────┤\n",
      "│  2 │    3 │ Smith      │ Anna     │ anna.smith@example.com    │ Canada  │\n",
      "├────┼──────┼────────────┼──────────┼───────────────────────────┼─────────┤\n",
      "│  3 │    4 │ Nguyen     │ Linh     │ linh.nguyen@example.com   │ Vietnam │\n",
      "├────┼──────┼────────────┼──────────┼───────────────────────────┼─────────┤\n",
      "│  4 │    5 │ Diallo     │ Amadou   │ amadou.diallo@example.com │ Sénégal │\n",
      "╘════╧══════╧════════════╧══════════╧═══════════════════════════╧═════════╛\n"
     ]
    }
   ],
   "source": [
    "# Étape 6 : Afficher les 5 premières lignes du DataFrame\n",
    "\n",
    "print(tabulate(df.head(), headers='keys', tablefmt='fancy_grid'))"
   ]
  },
  {
   "cell_type": "code",
   "execution_count": null,
   "metadata": {},
   "outputs": [],
   "source": [
    "\n",
    "conn.close()"
   ]
  }
 ],
 "metadata": {
  "kernelspec": {
   "display_name": "datascience",
   "language": "python",
   "name": "python3"
  },
  "language_info": {
   "codemirror_mode": {
    "name": "ipython",
    "version": 3
   },
   "file_extension": ".py",
   "mimetype": "text/x-python",
   "name": "python",
   "nbconvert_exporter": "python",
   "pygments_lexer": "ipython3",
   "version": "3.9.21"
  }
 },
 "nbformat": 4,
 "nbformat_minor": 2
}
